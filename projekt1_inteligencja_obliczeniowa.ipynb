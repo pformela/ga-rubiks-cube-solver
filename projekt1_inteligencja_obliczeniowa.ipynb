{
  "nbformat": 4,
  "nbformat_minor": 0,
  "metadata": {
    "colab": {
      "provenance": []
    },
    "kernelspec": {
      "name": "python3",
      "display_name": "Python 3"
    },
    "language_info": {
      "name": "python"
    }
  },
  "cells": [
    {
      "cell_type": "markdown",
      "source": [
        "# Optimal solution for the 3x3x3 Rubik's Cube\n",
        "\n",
        "<img src=\"https://w7.pngwing.com/pngs/754/347/png-transparent-3-by-3-rubik-s-cube-rubiks-cube-professors-cube-rubik-039-s-cube-symmetry-cube-toy-thumbnail.png\"/>"
      ],
      "metadata": {
        "id": "G6zLYcKQPEDS"
      }
    },
    {
      "cell_type": "markdown",
      "source": [
        "## Defining all possible moves\n",
        "\n",
        "<img src=\"https://uploads-ssl.webflow.com/621fc3d35d2503efbb52fe84/621fc3d35d25030ff3530054_twisting.jpeg\"/>\n",
        "\n",
        "* R - right side up,\n",
        "* Ri - right side down,\n",
        "* L - left side down,\n",
        "* Li - left side up,\n",
        "* B - back side left,\n",
        "* Bi - back side right,\n",
        "* F - front side right,\n",
        "* Fi - front side left,\n",
        "* D - bottom side right,\n",
        "* Di - bottom side left,\n",
        "* U - top side left,\n",
        "* Ui - top side right\n",
        "\n",
        "So in total we can make 12 moves for 3x3x3 rubik's cube.\n"
      ],
      "metadata": {
        "id": "rmxp66dmPNY-"
      }
    },
    {
      "cell_type": "markdown",
      "source": [
        "### Color codes\n",
        "* 1 - green\n",
        "* 2 - blue\n",
        "* 3 - red\n",
        "* 4 - orange\n",
        "* 5 - yellow\n",
        "* 6 - white"
      ],
      "metadata": {
        "id": "QnYAn2nZV8ik"
      }
    },
    {
      "cell_type": "code",
      "source": [
        "!pip install pygad\n",
        "!pip install pyswarms"
      ],
      "metadata": {
        "id": "S9_NQVv6_DZS"
      },
      "execution_count": null,
      "outputs": []
    },
    {
      "cell_type": "code",
      "source": [
        "import pyswarms as ps\n",
        "from pyswarms.utils.functions import single_obj as fx\n",
        "from pyswarms.utils.plotters import plot_cost_history\n",
        "import pygad\n",
        "import numpy as np\n",
        "import matplotlib.pyplot as plt\n",
        "import pandas as pd\n",
        "import time"
      ],
      "metadata": {
        "colab": {
          "base_uri": "https://localhost:8080/"
        },
        "id": "KVpuIcDV3vAV",
        "outputId": "56dc4499-8e42-4837-b047-e1ea0b9b76f6"
      },
      "execution_count": 148,
      "outputs": [
        {
          "output_type": "stream",
          "name": "stderr",
          "text": [
            "2023-04-12 06:05:20,535 - numexpr.utils - INFO - NumExpr defaulting to 2 threads.\n"
          ]
        }
      ]
    },
    {
      "cell_type": "code",
      "source": [
        "# Define a list of possible moves\n",
        "MOVES = np.array([\"U\", \"U'\", \"D\", \"D'\", \"R\", \"R'\", \"L\", \"L'\", \"F\", \"F'\", \"B\", \"B'\"])"
      ],
      "metadata": {
        "id": "rzyCAs8UTvWi"
      },
      "execution_count": 115,
      "outputs": []
    },
    {
      "cell_type": "code",
      "source": [
        "# Define a function to initialize a solved rubik's cube\n",
        "\n",
        "def initialize_cube():\n",
        "  \"\"\"\n",
        "  Initializes numpy representation of solved Rubik's cube.\n",
        "\n",
        "  Returns:\n",
        "    A numpy array of shape (6, 3, 3) with each\n",
        "    consecutive (3, 3) sized array filled with index + 1 numbers\n",
        "    representing different colours.\n",
        "  \"\"\"\n",
        "  cube = np.zeros((6, 3, 3), dtype=np.int8)\n",
        "\n",
        "  # Front face - green\n",
        "  cube[0] = np.full((3, 3), 1)\n",
        "\n",
        "  # Back face - blue\n",
        "  cube[1] = np.full((3, 3), 2)\n",
        "\n",
        "  # Left face - red\n",
        "  cube[2] = np.full((3, 3), 3)\n",
        "\n",
        "  # Right face - orange\n",
        "  cube[3] = np.full((3, 3), 4)\n",
        "\n",
        "  # Top face - yellow\n",
        "  cube[4] = np.full((3, 3), 5)\n",
        "\n",
        "  # Bottom face - white\n",
        "  cube[5] = np.full((3, 3), 6)\n",
        "\n",
        "  return cube"
      ],
      "metadata": {
        "id": "xyKyh-cgW9a0"
      },
      "execution_count": 116,
      "outputs": []
    },
    {
      "cell_type": "code",
      "source": [
        "# Define the colours of each face, indices and colour palette\n",
        "colours = ['green', 'blue', 'red', 'orange', 'yellow', 'white']\n",
        "\n",
        "# Front face cube[0]\n",
        "# Back face  cube[1]\n",
        "# Left face cube[2]\n",
        "# Right face cube[3]\n",
        "# Top face cube[4]\n",
        "# Bottom face cube[5]\n",
        "\n",
        "cube_sides = {\"front\": 0, \n",
        "              \"back\": 1, \n",
        "              \"left\": 2, \n",
        "              \"right\": 3, \n",
        "              \"top\": 4, \n",
        "              \"bottom\": 5}\n",
        "\n",
        "colour_palette = {\n",
        "    'blue': [0, 0, 255],\n",
        "    'green': [0, 255, 0],  # green\n",
        "    'red': [255, 0, 0],  # red\n",
        "    'orange': [255, 153, 51],  # orange\n",
        "    'white': [255, 255, 255],  # white\n",
        "    'yellow': [255, 255, 0],  # yellow\n",
        "}"
      ],
      "metadata": {
        "id": "adXeFENE4rIh"
      },
      "execution_count": 117,
      "outputs": []
    },
    {
      "cell_type": "code",
      "source": [
        "def plot_cube_side(cube, sides, axes):\n",
        "  \"\"\"\n",
        "  Plots a single side of a Rubik's cube on an axis.\n",
        "\n",
        "  Args:\n",
        "    cube: an ndarray of size (6, 3, 3) representing Rubik's cube,\n",
        "    sides: an ndarray with list of sides to be consecutively plotted\n",
        "    axes: an ndarray of axes of size = len(sides) to plot Rubik's cube sides on\n",
        "  \"\"\"\n",
        "  if len(sides) == 1:\n",
        "    # Set the title of the plot\n",
        "    axes.set_title(sides[0])\n",
        "\n",
        "    x = np.arange(0, 3)\n",
        "    y = np.arange(0, 3)\n",
        "\n",
        "    # Draw the vertical and horizontal lines of the mesh\n",
        "    axes.hlines(y + 0.5, xmin=-0.5, xmax=2.5, color='black', linewidth=1)\n",
        "    axes.vlines(x + 0.5, ymin=-0.5, ymax=2.5, color='black', linewidth=1)\n",
        "    \n",
        "    # Convert the numpy array for the current face to a list of colors\n",
        "    side = np.array([])\n",
        "    for row in range(3):\n",
        "        for col in range(3):\n",
        "            colour = colour_palette[colours[cube[cube_sides[sides[0]]][row][col] - 1]]\n",
        "            side = np.append(side, colour)\n",
        "    \n",
        "    # Reshape the list of colors into a 3x3 image and plot it\n",
        "    axes.imshow(side.reshape(3, 3, 3) / 255.)\n",
        "\n",
        "    # Hide the axis ticks and labels\n",
        "    axes.set_xticks([])\n",
        "    axes.set_yticks([])\n",
        "  else:\n",
        "    for i, ax in enumerate(axes):\n",
        "      # Set the title of the subplot to the name of the corresponding face\n",
        "      ax.set_title(sides[i])\n",
        "\n",
        "      x = np.arange(0, 3)\n",
        "      y = np.arange(0, 3)\n",
        "\n",
        "      # Draw the vertical and horizontal lines of the mesh\n",
        "      ax.hlines(y + 0.5, xmin=-0.5, xmax=2.5, color='black', linewidth=1)\n",
        "      ax.vlines(x + 0.5, ymin=-0.5, ymax=2.5, color='black', linewidth=1)\n",
        "      \n",
        "      # Convert the numpy array for the current face to a list of colors\n",
        "      side = np.array([])\n",
        "      for row in range(3):\n",
        "          for col in range(3):\n",
        "              colour = colour_palette[colours[cube[cube_sides[sides[i]]][row][col] - 1]]\n",
        "              side = np.append(side, colour)\n",
        "      \n",
        "      # Reshape the list of colors into a 3x3 image and plot it\n",
        "      ax.imshow(side.reshape(3, 3, 3) / 255.)\n",
        "\n",
        "      # Hide the axis ticks and labels\n",
        "      ax.set_xticks([])\n",
        "      ax.set_yticks([])\n"
      ],
      "metadata": {
        "id": "L_d_eaGXnmvk"
      },
      "execution_count": 118,
      "outputs": []
    },
    {
      "cell_type": "code",
      "source": [
        "def plot_cube(cube, size=3):\n",
        "  \"\"\"\n",
        "  Plots a Rubik's cube in a way as it was to be unfolded.\n",
        "  The back side is presented upside down.\n",
        "\n",
        "  Args:\n",
        "    cube: an ndarray representing Rubik's cube\n",
        "    size: size of Rubik's cube (default = 3)\n",
        "  \"\"\"\n",
        "  plt.rcParams['font.size'] = 12\n",
        "\n",
        "  fig, axes = plt.subplots(nrows=4, ncols=size, figsize=(6, 8))\n",
        "  plot_cube_side(cube, ['top'], axes=axes[0, 1])\n",
        "  plot_cube_side(cube, ['left', 'front', 'right'], axes=axes[1])\n",
        "  plot_cube_side(cube, ['bottom'], axes=axes[2, 1])\n",
        "  plot_cube_side(cube, ['back'], axes=axes[3, 1])\n",
        "\n",
        "  axes[0, 0].set_axis_off()\n",
        "  axes[0, 2].set_axis_off()\n",
        "  axes[2, 0].set_axis_off()\n",
        "  axes[2, 2].set_axis_off()\n",
        "  axes[3, 0].set_axis_off()\n",
        "  axes[3, 2].set_axis_off()\n",
        "\n",
        "  plt.show();"
      ],
      "metadata": {
        "id": "Ko_6JV69nfRy"
      },
      "execution_count": 119,
      "outputs": []
    },
    {
      "cell_type": "code",
      "source": [
        "# Plot initialized Rubik's cube\n",
        "cube = initialize_cube()\n",
        "plot_cube(cube)"
      ],
      "metadata": {
        "id": "yhW0xt6bwe-2",
        "colab": {
          "base_uri": "https://localhost:8080/",
          "height": 676
        },
        "outputId": "e1fdac6f-8798-4123-fe52-9c4fca90582b"
      },
      "execution_count": 120,
      "outputs": [
        {
          "output_type": "display_data",
          "data": {
            "text/plain": [
              "<Figure size 600x800 with 12 Axes>"
            ],
            "image/png": "[encoded data removed]"
          },
          "metadata": {}
        }
      ]
    },
    {
      "cell_type": "code",
      "source": [
        "def make_move(cube, move):\n",
        "  \"\"\"\n",
        "  Swaps rows, and columns and rotates ndarrays in order to resemble Rubik's \n",
        "  cube moves\n",
        "\n",
        "  Args:\n",
        "    cube: an ndarray representing Rubik's cube\n",
        "    move: a string representation of a move\n",
        "      (Possible moves: U, U', D, D', R, R', L, L', F, F', B, B')\n",
        "\n",
        "  Returns:\n",
        "    a (6, 3, 3) shaped array with applied transformation\n",
        "  \"\"\"\n",
        "  if move == \"F\":\n",
        "    cube[0] = np.rot90(cube[0], k=-1) # rotate front face clockwise\n",
        "    tmp = np.copy(cube[4, -1]) # last top row\n",
        "    cube[4, -1] = np.flip(cube[2, :, -1]) # change last top row to last left column\n",
        "    cube[2, :, -1] = cube[5, 0] # change last left column to first bottom row\n",
        "    cube[5, 0] = np.flip(cube[3, :, 0]) # change first bottom row to first right column\n",
        "    cube[3, :, 0] = tmp # change first right column to top last row\n",
        "  elif move == \"F'\":\n",
        "    cube[0] = np.rot90(cube[0], k=1) # rotate front face counter clockwise\n",
        "    tmp = np.copy(cube[4, -1]) # last top row\n",
        "    cube[4, -1] = cube[3, :, 0] # change last top row to first right column\n",
        "    cube[3, :, 0] = np.flip(cube[5, 0]) # change first right column to first bottom row\n",
        "    cube[5, 0] = cube[2, :, -1] # change first bottom row to last left column\n",
        "    cube[2, :, -1] = np.flip(tmp) # change last left column to top last row\n",
        "  elif move == \"D\":\n",
        "    cube[5] = np.rot90(cube[5], k=-1) # rotate bottom face clockwise\n",
        "    tmp = np.copy(cube[0, -1]) # last front row\n",
        "    cube[0, -1] = cube[2, -1] # last front row to last left row\n",
        "    cube[2, -1] = cube[1, 0] # last left row to first back row\n",
        "    cube[1, 0] = np.flip(cube[3, -1]) # first back row to last right row\n",
        "    cube[3, -1] = tmp # last right row to last front row\n",
        "  elif move == \"D'\":\n",
        "    cube[5] = np.rot90(cube[5], k=1) # rotate bottom face counter clockwise\n",
        "    tmp = np.copy(cube[0, -1]) # last front row\n",
        "    cube[0, -1] = cube[3, -1] # last front row to last right row\n",
        "    cube[3, -1] = cube[1, 0] # first right row to last back row\n",
        "    cube[1, 0] = np.flip(cube[2, -1]) # first back row to last left row\n",
        "    cube[2, -1] = tmp # last left row to last front row\n",
        "  elif move == \"U'\":\n",
        "    cube[4] = np.rot90(cube[4], k=1)# rotate top face counter clockwise\n",
        "    tmp = np.copy(cube[0, 0]) # top front row\n",
        "    cube[0, 0] = cube[2, 0] # first front row to first left row\n",
        "    cube[2, 0] = np.flip(cube[1, -1]) # first left row to last back row\n",
        "    cube[1, -1] = np.flip(cube[3, 0]) # last back row to first right row\n",
        "    cube[3, 0] = tmp # first right row to first front row\n",
        "  elif move == \"U\":\n",
        "    cube[4] = np.rot90(cube[4], k=-1)# rotate top face clockwise\n",
        "    tmp = np.copy(cube[0, 0]) # top front row\n",
        "    cube[0, 0] = cube[3, 0] # first front row to first right row\n",
        "    cube[3, 0] = np.flip(cube[1, -1]) # first right row to last back row\n",
        "    cube[1, -1] = np.flip(cube[2, 0]) # last back row to first left row\n",
        "    cube[2, 0] = tmp # first left row to first front row\n",
        "  elif move == \"B'\":\n",
        "    cube[1] = np.rot90(cube[1], k=1)# rotate back face counter clockwise\n",
        "    tmp = np.copy(cube[4, 0]) # first top row\n",
        "    cube[4, 0] = np.flip(cube[2, :, 0]) # first top row to first left column\n",
        "    cube[2, :, 0] = cube[5, -1] # first left column to last bottom row\n",
        "    cube[5, -1] = np.flip(cube[3, :, -1]) # last bottom row to last right column\n",
        "    cube[3, :, -1] = tmp # last right column to first top row\n",
        "  elif move == \"B\":\n",
        "    cube[1] = np.rot90(cube[1], k=-1)# rotate back face clockwise\n",
        "    tmp = np.copy(cube[4, 0]) # first top row\n",
        "    cube[4, 0] = cube[3, :, -1] # first top row to last right column\n",
        "    cube[3, :, -1] = np.flip(cube[5, -1]) # last right column to last bottom row\n",
        "    cube[5, -1] = cube[2, :, 0] # last bottom row to first left column\n",
        "    cube[2, :, 0] = np.flip(tmp) # first left column to first top row\n",
        "  elif move == \"R\":\n",
        "    cube[3] = np.rot90(cube[3], k=-1) # rotate right face clockwise\n",
        "    tmp = np.copy(cube[4, :, -1]) # last top column\n",
        "    cube[4, :, -1] = cube[0, :, -1] # last top column to last front column\n",
        "    cube[0, :, -1] = cube[5, :, -1] # last front column to last bottom column\n",
        "    cube[5, :, -1] = cube[1, :, -1] # last bottom column to last back column\n",
        "    cube[1, :, -1] = tmp # last back column to last top column\n",
        "  elif move == \"R'\":\n",
        "    cube[3] = np.rot90(cube[3], k=1) # rotate right face counter clockwise\n",
        "    tmp = np.copy(cube[4, :, -1]) # last top column\n",
        "    cube[4, :, -1] = cube[1, :, -1] # last top column to last back column\n",
        "    cube[1, :, -1] = cube[5, :, -1] # last back column to last bottom column\n",
        "    cube[5, :, -1] = cube[0, :, -1] # last bottom column to last front column\n",
        "    cube[0, :, -1] = tmp # last front column to last top column\n",
        "  elif move == \"L\":\n",
        "    cube[2] = np.rot90(cube[2], k=-1) # rotate left face clockwise\n",
        "    tmp = np.copy(cube[4, :, 0]) # first top column\n",
        "    cube[4, :, 0] = cube[1, :, 0] # first top column to first back column\n",
        "    cube[1, :, 0] = cube[5, :, 0] # first back column to first bottom column\n",
        "    cube[5, :, 0] = cube[0, :, 0] # first bottom column to first front column\n",
        "    cube[0, :, 0] = tmp # first front column to first top column\n",
        "  elif move == \"L'\":\n",
        "    cube[2] = np.rot90(cube[2], k=1) # rotate left face counter clockwise\n",
        "    tmp = np.copy(cube[4, :, 0]) # first top column\n",
        "    cube[4, :, 0] = cube[0, :, 0] # first top column to first front column\n",
        "    cube[0, :, 0] = cube[5, :, 0] # first front column to first bottom column\n",
        "    cube[5, :, 0] = cube[1, :, 0] # first bottom column to first back column\n",
        "    cube[1, :, 0] = tmp # first back column to first top column\n",
        "\n",
        "  return cube"
      ],
      "metadata": {
        "id": "T87vXYPVcAz2"
      },
      "execution_count": 121,
      "outputs": []
    },
    {
      "cell_type": "code",
      "source": [
        "def shuffle_cube(n_moves, cube):\n",
        "  \"\"\"\n",
        "  Randomly shuffles the Rubik's cube using the make_move() function.\n",
        "  For each move in range(n_moves) the function selects random move\n",
        "  and applies it to a Rubik's cube representation.\n",
        "\n",
        "  Args:\n",
        "    n_moves: number of random moves\n",
        "    cube: an ndarray representing Rubik's cube\n",
        "\n",
        "  Returns:\n",
        "    list of commited moves, \n",
        "    a (6, 3, 3) shaped randomly shuffled array\n",
        "  \"\"\"\n",
        "  commited_moves = []\n",
        "  new_cube = np.copy(cube)\n",
        "\n",
        "  for i in range(n_moves):\n",
        "    move = np.random.choice(MOVES)\n",
        "    commited_moves.append(move)\n",
        "    new_cube = make_move(new_cube, move)\n",
        "\n",
        "  return commited_moves, new_cube"
      ],
      "metadata": {
        "id": "0NGX7WUz-F6V"
      },
      "execution_count": 122,
      "outputs": []
    },
    {
      "cell_type": "code",
      "source": [
        "cube = initialize_cube()\n",
        "plot_cube(cube)"
      ],
      "metadata": {
        "colab": {
          "base_uri": "https://localhost:8080/",
          "height": 676
        },
        "id": "jrJOVkj8_OrI",
        "outputId": "00648250-82ba-440a-fd23-9c24d44a34d5"
      },
      "execution_count": 123,
      "outputs": [
        {
          "output_type": "display_data",
          "data": {
            "text/plain": [
              "<Figure size 600x800 with 12 Axes>"
            ],
            "image/png": "[encoded data removed]"
          },
          "metadata": {}
        }
      ]
    },
    {
      "cell_type": "markdown",
      "source": [
        "## Let's make experiments on different number of moves used to shuffle the solved Rubik's cube\n",
        "\n",
        "1. Small input - 5 moves\n",
        "2. Medium input - 10 moves\n",
        "3. Big input - 20 moves"
      ],
      "metadata": {
        "id": "xQ-ZvzkIEir7"
      }
    },
    {
      "cell_type": "code",
      "source": [
        "# Define the DataFrame to compare results\n",
        "results = pd.DataFrame(columns=[\"n_shuffle_moves\", \"percent_of_good_solutions\", \"avg_runtime\"])\n",
        "\n",
        "results"
      ],
      "metadata": {
        "id": "xvkAefWBEHqO"
      },
      "execution_count": null,
      "outputs": []
    },
    {
      "cell_type": "markdown",
      "source": [
        "Since cubies in the middle always stay the same during shuffling and moving sides we compare the whole side to the middle cubie to check if all other cubies are properly aligned to their *initial* side"
      ],
      "metadata": {
        "id": "gD9qPduub7Ha"
      }
    },
    {
      "cell_type": "code",
      "source": [
        "# Define fitness function for our genetic algorithm\n",
        "def fitness_function(instance, solution, solution_idx):\n",
        "  cube_copy = np.copy(shuffled_cube)\n",
        "  fitness = 0\n",
        "\n",
        "  # Commit moves on the shuffled Rubik's cube to check\n",
        "  # whether they are valid to solve the cube\n",
        "  for i in range(len(solution)):\n",
        "    cube_copy = make_move(cube_copy, MOVES[int(solution[i])])\n",
        "\n",
        "    # if after any of the moves the cube is solved, return the fitness score\n",
        "    if np.sum(cube_copy == cube) == 54:\n",
        "      return 54 * (num_genes - i)\n",
        "\n",
        "  # After all the moves count how many elements on each face\n",
        "  # are aligned properly to calculate fitness score\n",
        "  for j in range(len(cube_copy)):\n",
        "    score = cube_copy[j] == cube_copy[j, 1, 1]\n",
        "    fitness += np.sum(score)\n",
        "\n",
        "  return fitness"
      ],
      "metadata": {
        "id": "GnFMPJB19TYY"
      },
      "execution_count": 126,
      "outputs": []
    },
    {
      "cell_type": "code",
      "source": [
        "# Define function to calculate the cost of the moves for PSO\n",
        "def calculate_accuracy(solution):\n",
        "  cube_copy = np.copy(shuffled_cube)\n",
        "  fitness = 0\n",
        "\n",
        "  for i in range(len(solution)):\n",
        "    cube_copy = make_move(cube_copy, MOVES[int(np.round(solution[i]))])\n",
        "  \n",
        "  for i in range(len(cube_copy)):\n",
        "    score = cube_copy[i] == cube_copy[i, 1, 1]\n",
        "    fitness += np.sum(score)\n",
        "\n",
        "  # 1 - Rubik's cube solved, higher - unsolved\n",
        "  return 54. / fitness"
      ],
      "metadata": {
        "id": "sVkvTtUoGodt"
      },
      "execution_count": 132,
      "outputs": []
    },
    {
      "cell_type": "code",
      "source": [
        "# Define a function to calculate cost for each of the particles for PSO\n",
        "def f(x):\n",
        "  n_particles = x.shape[0]\n",
        "  results = np.array([calculate_accuracy(x[i]) for i in range(n_particles)])\n",
        "\n",
        "  return results"
      ],
      "metadata": {
        "id": "MpwMZ8daGyJY"
      },
      "execution_count": 133,
      "outputs": []
    },
    {
      "cell_type": "markdown",
      "source": [
        "### Small input"
      ],
      "metadata": {
        "id": "rxkMPN6vGd3G"
      }
    },
    {
      "cell_type": "code",
      "source": [
        "# Shuffle the Rubik's cube and plot it\n",
        "n_moves_small = 5\n",
        "cube = initialize_cube()\n",
        "commited_moves, shuffled_cube = shuffle_cube(n_moves_small, cube)\n",
        "\n",
        "plot_cube(shuffled_cube)\n",
        "print(commited_moves)"
      ],
      "metadata": {
        "colab": {
          "base_uri": "https://localhost:8080/",
          "height": 693
        },
        "id": "hzdi7o0x-e4-",
        "outputId": "33a2aea1-315b-4f4b-dc0f-858403dbb003"
      },
      "execution_count": 150,
      "outputs": [
        {
          "output_type": "display_data",
          "data": {
            "text/plain": [
              "<Figure size 600x800 with 12 Axes>"
            ],
            "image/png": "[encoded data removed]"
          },
          "metadata": {}
        },
        {
          "output_type": "stream",
          "name": "stdout",
          "text": [
            "[\"U'\", 'R', 'F', 'L', \"L'\"]\n"
          ]
        }
      ]
    },
    {
      "cell_type": "code",
      "source": [
        "# Initialize Genetic Algorithm hyperparameters\n",
        "gene_space = np.arange(0, len(MOVES), 1)\n",
        "\n",
        "sol_per_pop = 100\n",
        "num_genes = n_moves_small \n",
        "\n",
        "num_parents_mating = 50\n",
        "num_generations = 100\n",
        "keep_parents = 10\n",
        "\n",
        "#sss = steady, rws=roulette, rank = rankingowa, tournament = turniejowa\n",
        "parent_selection_type = \"tournament\"\n",
        "\n",
        "#w ilu punktach robic krzyzowanie?\n",
        "crossover_type = \"single_point\"\n",
        "\n",
        "mutation_type = \"random\"\n",
        "mutation_percent_genes = 20"
      ],
      "metadata": {
        "id": "iaevPIx49Rld"
      },
      "execution_count": 174,
      "outputs": []
    },
    {
      "cell_type": "code",
      "source": [
        "# Initialize genetic algorithm and run it\n",
        "ga_instance = pygad.GA(gene_space=gene_space,\n",
        "                       num_generations=num_generations,\n",
        "                       num_parents_mating=num_parents_mating,\n",
        "                       fitness_func=fitness_function,\n",
        "                       sol_per_pop=sol_per_pop,\n",
        "                       num_genes=num_genes,\n",
        "                       parent_selection_type=parent_selection_type,\n",
        "                       keep_parents=keep_parents,\n",
        "                       crossover_type=crossover_type,\n",
        "                       mutation_type=mutation_type,\n",
        "                       mutation_percent_genes=mutation_percent_genes,\n",
        "                       stop_criteria=\"reach_54\")\n",
        "\n",
        "ga_instance.run()"
      ],
      "metadata": {
        "id": "Dh4Vr1Ha9YC2"
      },
      "execution_count": 157,
      "outputs": []
    },
    {
      "cell_type": "code",
      "source": [
        "solution, solution_fitness, solution_idx = ga_instance.best_solution()\n",
        "\n",
        "n_solution_moves = len(solution) \n",
        "\n",
        "if solution_fitness > 54:\n",
        "  n_solution_moves = int(len(solution) - (solution_fitness / 54))\n",
        "\n",
        "no_generations = ga_instance.generations_completed\n",
        "print(\"Parameters of the best solution : {solution}\".format(solution=solution))\n",
        "print(\"Fitness value of the best solution = {solution_fitness}\".format(solution_fitness=solution_fitness))\n",
        "print(\"Generations before finding the best solution = {no_generations}\".format(no_generations=no_generations))"
      ],
      "metadata": {
        "colab": {
          "base_uri": "https://localhost:8080/"
        },
        "id": "mXY-YGPE9Zn1",
        "outputId": "403bdcf2-1f45-454e-99f8-606afe72d5c6"
      },
      "execution_count": 158,
      "outputs": [
        {
          "output_type": "stream",
          "name": "stdout",
          "text": [
            "Parameters of the best solution : [9. 5. 1. 1. 1.]\n",
            "Fitness value of the best solution = 54\n",
            "Generations before finding the best solution = 2\n"
          ]
        }
      ]
    },
    {
      "cell_type": "code",
      "source": [
        "# Plot the shuffled cube to remind ourselved of the cube\n",
        "plot_cube(shuffled_cube)"
      ],
      "metadata": {
        "colab": {
          "base_uri": "https://localhost:8080/",
          "height": 676
        },
        "id": "KLbgiMTcBjyb",
        "outputId": "f1512190-4a34-4091-ff59-70873a3a50f5"
      },
      "execution_count": 159,
      "outputs": [
        {
          "output_type": "display_data",
          "data": {
            "text/plain": [
              "<Figure size 600x800 with 12 Axes>"
            ],
            "image/png": "[encoded data removed]"
          },
          "metadata": {}
        }
      ]
    },
    {
      "cell_type": "code",
      "source": [
        "# Visualize moves from the best solution commited on the shuffled cube\n",
        "new_cube = np.copy(shuffled_cube)\n",
        "\n",
        "for i in range(n_solution_moves):\n",
        "  new_cube = make_move(new_cube, MOVES[int(solution[i])])\n",
        "\n",
        "plot_cube(new_cube)"
      ],
      "metadata": {
        "colab": {
          "base_uri": "https://localhost:8080/",
          "height": 676
        },
        "id": "ZfjgWUhCBnQk",
        "outputId": "ea310261-dc68-47d3-804a-0ae5bb8d4c04"
      },
      "execution_count": 160,
      "outputs": [
        {
          "output_type": "display_data",
          "data": {
            "text/plain": [
              "<Figure size 600x800 with 12 Axes>"
            ],
            "image/png": "[encoded data removed]"
          },
          "metadata": {}
        }
      ]
    },
    {
      "cell_type": "code",
      "source": [
        "# Check the fitness curve\n",
        "plt.rcParams['font.size'] = 18\n",
        "\n",
        "fig, ax = plt.subplots(figsize=(10,6))\n",
        "\n",
        "ax.plot(ga_instance.best_solutions_fitness,\n",
        "        c=\"b\")\n",
        "\n",
        "ax.set(title=\"PyGAD - Generation vs. Fitness\", \n",
        "       xlabel=\"Generation\", \n",
        "       ylabel=\"Fitness\");"
      ],
      "metadata": {
        "colab": {
          "base_uri": "https://localhost:8080/",
          "height": 593
        },
        "id": "89jb_Hov9bot",
        "outputId": "7b2ba92c-59d5-498a-cb40-b3ddeb14843f"
      },
      "execution_count": 161,
      "outputs": [
        {
          "output_type": "display_data",
          "data": {
            "text/plain": [
              "<Figure size 1000x600 with 1 Axes>"
            ],
            "image/png": "[encoded data removed]"
          },
          "metadata": {}
        }
      ]
    },
    {
      "cell_type": "markdown",
      "source": [
        "### Small inputs - GA"
      ],
      "metadata": {
        "id": "Yz3Xy-JxHpzL"
      }
    },
    {
      "cell_type": "code",
      "source": [
        "elapsed_times = []\n",
        "\n",
        "n_moves_small = 5\n",
        "n_good_solutions = 0\n",
        "\n",
        "for i in range(100):\n",
        "  # Shuffle the Rubik's cube\n",
        "  cube = initialize_cube()\n",
        "  commited_moves, shuffled_cube = shuffle_cube(n_moves_small, cube)\n",
        "\n",
        "  start_time = time.time()\n",
        "\n",
        "  # Initialize genetic algorithm and run it\n",
        "  ga_instance = pygad.GA(gene_space=gene_space,\n",
        "                         num_generations=num_generations,\n",
        "                         num_parents_mating=num_parents_mating,\n",
        "                         fitness_func=fitness_function,\n",
        "                         sol_per_pop=sol_per_pop,\n",
        "                         num_genes=n_moves_small,\n",
        "                         parent_selection_type=parent_selection_type,\n",
        "                         keep_parents=keep_parents,\n",
        "                         crossover_type=crossover_type,\n",
        "                         mutation_type=mutation_type,\n",
        "                         mutation_percent_genes=mutation_percent_genes,\n",
        "                         stop_criteria=\"reach_54\")\n",
        "\n",
        "  ga_instance.run()\n",
        "\n",
        "  end_time = time.time()\n",
        "  elapsed_times.append(end_time - start_time)\n",
        "\n",
        "  solution, solution_fitness, solution_idx = ga_instance.best_solution()\n",
        "\n",
        "  if solution_fitness >= 54:\n",
        "    n_good_solutions += 1\n",
        "\n",
        "small_input_results = {\"n_shuffle_moves\": 5, \n",
        "                       \"percent_of_good_solutions\": n_good_solutions / 100,\n",
        "                       \"avg_runtime\": np.mean(elapsed_times)}\n",
        "\n",
        "results = results.append(small_input_results, ignore_index=True)"
      ],
      "metadata": {
        "id": "C4k2BIihHU7R"
      },
      "execution_count": null,
      "outputs": []
    },
    {
      "cell_type": "markdown",
      "source": [
        "### Medium inputs - GA"
      ],
      "metadata": {
        "id": "TmUo_gG-Lh8Y"
      }
    },
    {
      "cell_type": "code",
      "source": [
        "elapsed_times = []\n",
        "\n",
        "n_moves_medium = 10\n",
        "n_good_solutions = 0\n",
        "\n",
        "for i in range(100):\n",
        "  # Shuffle the Rubik's cube\n",
        "  cube = initialize_cube()\n",
        "  commited_moves, shuffled_cube = shuffle_cube(n_moves_small, cube)\n",
        "\n",
        "  start_time = time.time()\n",
        "\n",
        "  # Initialize genetic algorithm and run it\n",
        "  ga_instance = pygad.GA(gene_space=gene_space,\n",
        "                         num_generations=num_generations,\n",
        "                         num_parents_mating=num_parents_mating,\n",
        "                         fitness_func=fitness_function,\n",
        "                         sol_per_pop=sol_per_pop,\n",
        "                         num_genes=n_moves_medium,\n",
        "                         parent_selection_type=parent_selection_type,\n",
        "                         keep_parents=keep_parents,\n",
        "                         crossover_type=crossover_type,\n",
        "                         mutation_type=mutation_type,\n",
        "                         mutation_percent_genes=mutation_percent_genes,\n",
        "                         stop_criteria=\"reach_54\")\n",
        "\n",
        "  ga_instance.run()\n",
        "\n",
        "  end_time = time.time()\n",
        "  elapsed_times.append(end_time - start_time)\n",
        "\n",
        "  solution, solution_fitness, solution_idx = ga_instance.best_solution()\n",
        "\n",
        "  if solution_fitness >= 54:\n",
        "    n_good_solutions += 1\n",
        "\n",
        "medium_input_results = {\"n_shuffle_moves\": 10, \n",
        "                       \"percent_of_good_solutions\": n_good_solutions / 100,\n",
        "                       \"avg_runtime\": np.mean(elapsed_times)}\n",
        "\n",
        "results = results.append(medium_input_results, ignore_index=True)"
      ],
      "metadata": {
        "id": "TcaM-TmeLk2w"
      },
      "execution_count": null,
      "outputs": []
    },
    {
      "cell_type": "markdown",
      "source": [
        "### Big inputs - GA"
      ],
      "metadata": {
        "id": "eEz-S74qQbXS"
      }
    },
    {
      "cell_type": "code",
      "source": [
        "elapsed_times = []\n",
        "\n",
        "n_moves_big = 20\n",
        "n_good_solutions = 0\n",
        "\n",
        "for i in range(100):\n",
        "  # Shuffle the Rubik's cube\n",
        "  cube = initialize_cube()\n",
        "  commited_moves, shuffled_cube = shuffle_cube(n_moves_big, cube)\n",
        "\n",
        "  start_time = time.time()\n",
        "\n",
        "  # Initialize genetic algorithm and run it\n",
        "  ga_instance = pygad.GA(gene_space=gene_space,\n",
        "                         num_generations=num_generations,\n",
        "                         num_parents_mating=num_parents_mating,\n",
        "                         fitness_func=fitness_function,\n",
        "                         sol_per_pop=sol_per_pop,\n",
        "                         num_genes=n_moves_big,\n",
        "                         parent_selection_type=parent_selection_type,\n",
        "                         keep_parents=keep_parents,\n",
        "                         crossover_type=crossover_type,\n",
        "                         mutation_type=mutation_type,\n",
        "                         mutation_percent_genes=mutation_percent_genes,\n",
        "                         stop_criteria=\"reach_54\")\n",
        "\n",
        "  ga_instance.run()\n",
        "\n",
        "  end_time = time.time()\n",
        "  elapsed_times.append(end_time - start_time)\n",
        "\n",
        "  solution, solution_fitness, solution_idx = ga_instance.best_solution()\n",
        "\n",
        "  if solution_fitness >= 54:\n",
        "    n_good_solutions += 1\n",
        "\n",
        "big_input_results = {\"n_shuffle_moves\": 10, \n",
        "                       \"percent_of_good_solutions\": n_good_solutions / 100,\n",
        "                       \"avg_runtime\": np.mean(elapsed_times)}\n",
        "\n",
        "results = results.append(big_input_results, ignore_index=True)"
      ],
      "metadata": {
        "id": "Y4YvfSMhQdgU"
      },
      "execution_count": null,
      "outputs": []
    },
    {
      "cell_type": "code",
      "source": [
        "results"
      ],
      "metadata": {
        "colab": {
          "base_uri": "https://localhost:8080/",
          "height": 143
        },
        "id": "znd2g7TQQpX5",
        "outputId": "a04972ce-e5b7-4ead-9e19-224753270bc3"
      },
      "execution_count": 186,
      "outputs": [
        {
          "output_type": "execute_result",
          "data": {
            "text/plain": [
              "   n_shuffle_moves  percent_of_good_solutions  avg_runtime\n",
              "0              5.0                       0.65     1.494241\n",
              "1             10.0                       0.41     3.261845\n",
              "2             20.0                       0.00     8.088125"
            ],
            "text/html": [
              "\n",
              "  <div id=\"df-b1c3fb77-aa25-4819-90d5-368a7540bf1a\">\n",
              "    <div class=\"colab-df-container\">\n",
              "      <div>\n",
              "<style scoped>\n",
              "    .dataframe tbody tr th:only-of-type {\n",
              "        vertical-align: middle;\n",
              "    }\n",
              "\n",
              "    .dataframe tbody tr th {\n",
              "        vertical-align: top;\n",
              "    }\n",
              "\n",
              "    .dataframe thead th {\n",
              "        text-align: right;\n",
              "    }\n",
              "</style>\n",
              "<table border=\"1\" class=\"dataframe\">\n",
              "  <thead>\n",
              "    <tr style=\"text-align: right;\">\n",
              "      <th></th>\n",
              "      <th>n_shuffle_moves</th>\n",
              "      <th>percent_of_good_solutions</th>\n",
              "      <th>avg_runtime</th>\n",
              "    </tr>\n",
              "  </thead>\n",
              "  <tbody>\n",
              "    <tr>\n",
              "      <th>0</th>\n",
              "      <td>5.0</td>\n",
              "      <td>0.65</td>\n",
              "      <td>1.494241</td>\n",
              "    </tr>\n",
              "    <tr>\n",
              "      <th>1</th>\n",
              "      <td>10.0</td>\n",
              "      <td>0.41</td>\n",
              "      <td>3.261845</td>\n",
              "    </tr>\n",
              "    <tr>\n",
              "      <th>2</th>\n",
              "      <td>20.0</td>\n",
              "      <td>0.00</td>\n",
              "      <td>8.088125</td>\n",
              "    </tr>\n",
              "  </tbody>\n",
              "</table>\n",
              "</div>\n",
              "      <button class=\"colab-df-convert\" onclick=\"convertToInteractive('df-b1c3fb77-aa25-4819-90d5-368a7540bf1a')\"\n",
              "              title=\"Convert this dataframe to an interactive table.\"\n",
              "              style=\"display:none;\">\n",
              "        \n",
              "  <svg xmlns=\"http://www.w3.org/2000/svg\" height=\"24px\"viewBox=\"0 0 24 24\"\n",
              "       width=\"24px\">\n",
              "    <path d=\"M0 0h24v24H0V0z\" fill=\"none\"/>\n",
              "    <path d=\"M18.56 5.44l.94 2.06.94-2.06 2.06-.94-2.06-.94-.94-2.06-.94 2.06-2.06.94zm-11 1L8.5 8.5l.94-2.06 2.06-.94-2.06-.94L8.5 2.5l-.94 2.06-2.06.94zm10 10l.94 2.06.94-2.06 2.06-.94-2.06-.94-.94-2.06-.94 2.06-2.06.94z\"/><path d=\"M17.41 7.96l-1.37-1.37c-.4-.4-.92-.59-1.43-.59-.52 0-1.04.2-1.43.59L10.3 9.45l-7.72 7.72c-.78.78-.78 2.05 0 2.83L4 21.41c.39.39.9.59 1.41.59.51 0 1.02-.2 1.41-.59l7.78-7.78 2.81-2.81c.8-.78.8-2.07 0-2.86zM5.41 20L4 18.59l7.72-7.72 1.47 1.35L5.41 20z\"/>\n",
              "  </svg>\n",
              "      </button>\n",
              "      \n",
              "  <style>\n",
              "    .colab-df-container {\n",
              "      display:flex;\n",
              "      flex-wrap:wrap;\n",
              "      gap: 12px;\n",
              "    }\n",
              "\n",
              "    .colab-df-convert {\n",
              "      background-color: #E8F0FE;\n",
              "      border: none;\n",
              "      border-radius: 50%;\n",
              "      cursor: pointer;\n",
              "      display: none;\n",
              "      fill: #1967D2;\n",
              "      height: 32px;\n",
              "      padding: 0 0 0 0;\n",
              "      width: 32px;\n",
              "    }\n",
              "\n",
              "    .colab-df-convert:hover {\n",
              "      background-color: #E2EBFA;\n",
              "      box-shadow: 0px 1px 2px rgba(60, 64, 67, 0.3), 0px 1px 3px 1px rgba(60, 64, 67, 0.15);\n",
              "      fill: #174EA6;\n",
              "    }\n",
              "\n",
              "    [theme=dark] .colab-df-convert {\n",
              "      background-color: #3B4455;\n",
              "      fill: #D2E3FC;\n",
              "    }\n",
              "\n",
              "    [theme=dark] .colab-df-convert:hover {\n",
              "      background-color: #434B5C;\n",
              "      box-shadow: 0px 1px 3px 1px rgba(0, 0, 0, 0.15);\n",
              "      filter: drop-shadow(0px 1px 2px rgba(0, 0, 0, 0.3));\n",
              "      fill: #FFFFFF;\n",
              "    }\n",
              "  </style>\n",
              "\n",
              "      <script>\n",
              "        const buttonEl =\n",
              "          document.querySelector('#df-b1c3fb77-aa25-4819-90d5-368a7540bf1a button.colab-df-convert');\n",
              "        buttonEl.style.display =\n",
              "          google.colab.kernel.accessAllowed ? 'block' : 'none';\n",
              "\n",
              "        async function convertToInteractive(key) {\n",
              "          const element = document.querySelector('#df-b1c3fb77-aa25-4819-90d5-368a7540bf1a');\n",
              "          const dataTable =\n",
              "            await google.colab.kernel.invokeFunction('convertToInteractive',\n",
              "                                                     [key], {});\n",
              "          if (!dataTable) return;\n",
              "\n",
              "          const docLinkHtml = 'Like what you see? Visit the ' +\n",
              "            '<a target=\"_blank\" href=https://colab.research.google.com/notebooks/data_table.ipynb>data table notebook</a>'\n",
              "            + ' to learn more about interactive tables.';\n",
              "          element.innerHTML = '';\n",
              "          dataTable['output_type'] = 'display_data';\n",
              "          await google.colab.output.renderOutput(dataTable, element);\n",
              "          const docLink = document.createElement('div');\n",
              "          docLink.innerHTML = docLinkHtml;\n",
              "          element.appendChild(docLink);\n",
              "        }\n",
              "      </script>\n",
              "    </div>\n",
              "  </div>\n",
              "  "
            ]
          },
          "metadata": {},
          "execution_count": 186
        }
      ]
    },
    {
      "cell_type": "markdown",
      "source": [
        "## Let's try pyswarms"
      ],
      "metadata": {
        "id": "8fkl5YW1GTdI"
      }
    },
    {
      "cell_type": "code",
      "source": [
        "# Define the DataFrame to compare results of PSO\n",
        "results_PSO = pd.DataFrame(columns=[\"n_shuffle_moves\", \"percent_of_good_solutions\", \"avg_runtime\"])\n",
        "\n",
        "results_PSO"
      ],
      "metadata": {
        "colab": {
          "base_uri": "https://localhost:8080/",
          "height": 49
        },
        "id": "X9_VM6obUJyO",
        "outputId": "0e7e7c71-2097-4fb2-91ce-1691169f1765"
      },
      "execution_count": 215,
      "outputs": [
        {
          "output_type": "execute_result",
          "data": {
            "text/plain": [
              "Empty DataFrame\n",
              "Columns: [n_shuffle_moves, percent_of_good_solutions, avg_runtime]\n",
              "Index: []"
            ],
            "text/html": [
              "\n",
              "  <div id=\"df-7a467aa8-7f5f-4d12-8f37-518eaadc1117\">\n",
              "    <div class=\"colab-df-container\">\n",
              "      <div>\n",
              "<style scoped>\n",
              "    .dataframe tbody tr th:only-of-type {\n",
              "        vertical-align: middle;\n",
              "    }\n",
              "\n",
              "    .dataframe tbody tr th {\n",
              "        vertical-align: top;\n",
              "    }\n",
              "\n",
              "    .dataframe thead th {\n",
              "        text-align: right;\n",
              "    }\n",
              "</style>\n",
              "<table border=\"1\" class=\"dataframe\">\n",
              "  <thead>\n",
              "    <tr style=\"text-align: right;\">\n",
              "      <th></th>\n",
              "      <th>n_shuffle_moves</th>\n",
              "      <th>percent_of_good_solutions</th>\n",
              "      <th>avg_runtime</th>\n",
              "    </tr>\n",
              "  </thead>\n",
              "  <tbody>\n",
              "  </tbody>\n",
              "</table>\n",
              "</div>\n",
              "      <button class=\"colab-df-convert\" onclick=\"convertToInteractive('df-7a467aa8-7f5f-4d12-8f37-518eaadc1117')\"\n",
              "              title=\"Convert this dataframe to an interactive table.\"\n",
              "              style=\"display:none;\">\n",
              "        \n",
              "  <svg xmlns=\"http://www.w3.org/2000/svg\" height=\"24px\"viewBox=\"0 0 24 24\"\n",
              "       width=\"24px\">\n",
              "    <path d=\"M0 0h24v24H0V0z\" fill=\"none\"/>\n",
              "    <path d=\"M18.56 5.44l.94 2.06.94-2.06 2.06-.94-2.06-.94-.94-2.06-.94 2.06-2.06.94zm-11 1L8.5 8.5l.94-2.06 2.06-.94-2.06-.94L8.5 2.5l-.94 2.06-2.06.94zm10 10l.94 2.06.94-2.06 2.06-.94-2.06-.94-.94-2.06-.94 2.06-2.06.94z\"/><path d=\"M17.41 7.96l-1.37-1.37c-.4-.4-.92-.59-1.43-.59-.52 0-1.04.2-1.43.59L10.3 9.45l-7.72 7.72c-.78.78-.78 2.05 0 2.83L4 21.41c.39.39.9.59 1.41.59.51 0 1.02-.2 1.41-.59l7.78-7.78 2.81-2.81c.8-.78.8-2.07 0-2.86zM5.41 20L4 18.59l7.72-7.72 1.47 1.35L5.41 20z\"/>\n",
              "  </svg>\n",
              "      </button>\n",
              "      \n",
              "  <style>\n",
              "    .colab-df-container {\n",
              "      display:flex;\n",
              "      flex-wrap:wrap;\n",
              "      gap: 12px;\n",
              "    }\n",
              "\n",
              "    .colab-df-convert {\n",
              "      background-color: #E8F0FE;\n",
              "      border: none;\n",
              "      border-radius: 50%;\n",
              "      cursor: pointer;\n",
              "      display: none;\n",
              "      fill: #1967D2;\n",
              "      height: 32px;\n",
              "      padding: 0 0 0 0;\n",
              "      width: 32px;\n",
              "    }\n",
              "\n",
              "    .colab-df-convert:hover {\n",
              "      background-color: #E2EBFA;\n",
              "      box-shadow: 0px 1px 2px rgba(60, 64, 67, 0.3), 0px 1px 3px 1px rgba(60, 64, 67, 0.15);\n",
              "      fill: #174EA6;\n",
              "    }\n",
              "\n",
              "    [theme=dark] .colab-df-convert {\n",
              "      background-color: #3B4455;\n",
              "      fill: #D2E3FC;\n",
              "    }\n",
              "\n",
              "    [theme=dark] .colab-df-convert:hover {\n",
              "      background-color: #434B5C;\n",
              "      box-shadow: 0px 1px 3px 1px rgba(0, 0, 0, 0.15);\n",
              "      filter: drop-shadow(0px 1px 2px rgba(0, 0, 0, 0.3));\n",
              "      fill: #FFFFFF;\n",
              "    }\n",
              "  </style>\n",
              "\n",
              "      <script>\n",
              "        const buttonEl =\n",
              "          document.querySelector('#df-7a467aa8-7f5f-4d12-8f37-518eaadc1117 button.colab-df-convert');\n",
              "        buttonEl.style.display =\n",
              "          google.colab.kernel.accessAllowed ? 'block' : 'none';\n",
              "\n",
              "        async function convertToInteractive(key) {\n",
              "          const element = document.querySelector('#df-7a467aa8-7f5f-4d12-8f37-518eaadc1117');\n",
              "          const dataTable =\n",
              "            await google.colab.kernel.invokeFunction('convertToInteractive',\n",
              "                                                     [key], {});\n",
              "          if (!dataTable) return;\n",
              "\n",
              "          const docLinkHtml = 'Like what you see? Visit the ' +\n",
              "            '<a target=\"_blank\" href=https://colab.research.google.com/notebooks/data_table.ipynb>data table notebook</a>'\n",
              "            + ' to learn more about interactive tables.';\n",
              "          element.innerHTML = '';\n",
              "          dataTable['output_type'] = 'display_data';\n",
              "          await google.colab.output.renderOutput(dataTable, element);\n",
              "          const docLink = document.createElement('div');\n",
              "          docLink.innerHTML = docLinkHtml;\n",
              "          element.appendChild(docLink);\n",
              "        }\n",
              "      </script>\n",
              "    </div>\n",
              "  </div>\n",
              "  "
            ]
          },
          "metadata": {},
          "execution_count": 215
        }
      ]
    },
    {
      "cell_type": "code",
      "source": [
        "# Shuffle the Rubik's cube and plot it\n",
        "n_moves_small = 5\n",
        "cube = initialize_cube()\n",
        "commited_moves, shuffled_cube = shuffle_cube(n_moves_small, cube)\n",
        "\n",
        "plot_cube(shuffled_cube)\n",
        "print(commited_moves)"
      ],
      "metadata": {
        "colab": {
          "base_uri": "https://localhost:8080/",
          "height": 693
        },
        "id": "CEDVpEAoUUKA",
        "outputId": "1c82e5cc-50a5-401b-f979-485d5cd52943"
      },
      "execution_count": 188,
      "outputs": [
        {
          "output_type": "display_data",
          "data": {
            "text/plain": [
              "<Figure size 600x800 with 12 Axes>"
            ],
            "image/png": "[encoded data removed]"
          },
          "metadata": {}
        },
        {
          "output_type": "stream",
          "name": "stdout",
          "text": [
            "['B', \"D'\", \"R'\", \"D'\", \"R'\"]\n"
          ]
        }
      ]
    },
    {
      "cell_type": "code",
      "source": [
        "# Define bounds that represent min and max indices from MOVES array for PSO\n",
        "bound_max = np.ones(5) * 11\n",
        "bound_min = np.zeros(5)\n",
        "\n",
        "bounds = (bound_min, bound_max)\n",
        "bounds"
      ],
      "metadata": {
        "colab": {
          "base_uri": "https://localhost:8080/"
        },
        "id": "tOvbHR-tHY7N",
        "outputId": "ae9049cc-3a96-4a71-d008-7fe865694298"
      },
      "execution_count": 189,
      "outputs": [
        {
          "output_type": "execute_result",
          "data": {
            "text/plain": [
              "(array([0., 0., 0., 0., 0.]), array([11., 11., 11., 11., 11.]))"
            ]
          },
          "metadata": {},
          "execution_count": 189
        }
      ]
    },
    {
      "cell_type": "code",
      "source": [
        "# Set-up hyperparameters\n",
        "options = {'c1': 0.8, 'c2': 0.1, 'w': 0.9}\n",
        "n_particles = 100"
      ],
      "metadata": {
        "id": "_qGmZMjQGY8W"
      },
      "execution_count": 193,
      "outputs": []
    },
    {
      "cell_type": "code",
      "source": [
        "# Call instance of PSO\n",
        "optimizer = ps.single.GlobalBestPSO(n_particles=n_particles, \n",
        "                                    dimensions=5, \n",
        "                                    options=options, \n",
        "                                    bounds=bounds)"
      ],
      "metadata": {
        "id": "d9Xzp_-KGalA"
      },
      "execution_count": 194,
      "outputs": []
    },
    {
      "cell_type": "code",
      "source": [
        "# Perform optimization\n",
        "cost, pos = optimizer.optimize(f, iters=100)"
      ],
      "metadata": {
        "colab": {
          "base_uri": "https://localhost:8080/"
        },
        "id": "vMhUz5NYGb_s",
        "outputId": "29970889-195d-419d-b0cd-2156d921d1d1"
      },
      "execution_count": 196,
      "outputs": [
        {
          "output_type": "stream",
          "name": "stderr",
          "text": [
            "2023-04-12 07:15:45,303 - pyswarms.single.global_best - INFO - Optimize for 100 iters with {'c1': 0.8, 'c2': 0.1, 'w': 0.9}\n",
            "pyswarms.single.global_best: 100%|██████████|100/100, best_cost=1.04\n",
            "2023-04-12 07:15:48,041 - pyswarms.single.global_best - INFO - Optimization finished | best cost: 1.0384615384615385, best pos: [ 3.82019016  2.38981553  4.19679972  2.10552029 10.56629209]\n"
          ]
        }
      ]
    },
    {
      "cell_type": "code",
      "source": [
        "# Visualize the best solution from PSO\n",
        "best_sol_moves = [round(move) for move in pos]\n",
        "\n",
        "best_sol_PSO_cube = np.copy(shuffled_cube)\n",
        "\n",
        "for move in best_sol_moves:\n",
        "  best_sol_PSO_cube = make_move(best_sol_PSO_cube, MOVES[move])\n",
        "\n",
        "plot_cube(best_sol_PSO_cube)"
      ],
      "metadata": {
        "colab": {
          "base_uri": "https://localhost:8080/",
          "height": 676
        },
        "id": "Yrtc2JbzCBvJ",
        "outputId": "faa1df45-d11d-4a94-b806-de1869447a38"
      },
      "execution_count": 197,
      "outputs": [
        {
          "output_type": "display_data",
          "data": {
            "text/plain": [
              "<Figure size 600x800 with 12 Axes>"
            ],
            "image/png": "[encoded data removed]"
          },
          "metadata": {}
        }
      ]
    },
    {
      "cell_type": "code",
      "source": [
        "# Obtain cost history from optimizer instance\n",
        "cost_history = optimizer.cost_history"
      ],
      "metadata": {
        "id": "6gSq5cF-B84n"
      },
      "execution_count": 198,
      "outputs": []
    },
    {
      "cell_type": "code",
      "source": [
        "# Plot!\n",
        "plot_cost_history(cost_history)\n",
        "plt.show()"
      ],
      "metadata": {
        "colab": {
          "base_uri": "https://localhost:8080/",
          "height": 727
        },
        "id": "mTS2W_9lGfPP",
        "outputId": "24e856c3-3cbc-4fdc-ddc1-dfe864297243"
      },
      "execution_count": 199,
      "outputs": [
        {
          "output_type": "display_data",
          "data": {
            "text/plain": [
              "<Figure size 1000x800 with 1 Axes>"
            ],
            "image/png": "[encoded data removed]"
          },
          "metadata": {}
        }
      ]
    },
    {
      "cell_type": "markdown",
      "source": [
        "### Small inputs PSO"
      ],
      "metadata": {
        "id": "OOyeiDg-UkZ3"
      }
    },
    {
      "cell_type": "code",
      "source": [
        "elapsed_times = []\n",
        "\n",
        "n_moves_small = 5\n",
        "n_good_solutions = 0\n",
        "\n",
        "for i in range(100):\n",
        "  # Shuffle the Rubik's cube\n",
        "  cube = initialize_cube()\n",
        "  commited_moves, shuffled_cube = shuffle_cube(n_moves_small, cube)\n",
        "\n",
        "  # Call instance of PSO\n",
        "  optimizer = ps.single.GlobalBestPSO(n_particles=n_particles, \n",
        "                                      dimensions=n_moves_small, \n",
        "                                      options=options, \n",
        "                                      bounds=bounds)\n",
        "\n",
        "  start_time = time.time()\n",
        "\n",
        "  # Perform optimization\n",
        "  cost, pos = optimizer.optimize(f, iters=100);\n",
        "\n",
        "  end_time = time.time()\n",
        "  elapsed_times.append(end_time - start_time)\n",
        "\n",
        "  if cost <= 1:\n",
        "    n_good_solutions += 1\n",
        "\n",
        "small_PSO_input_results = {\"n_shuffle_moves\": 5, \n",
        "                           \"percent_of_good_solutions\": n_good_solutions / 100,\n",
        "                           \"avg_runtime\": np.mean(elapsed_times)}\n",
        "\n",
        "results_PSO = results_PSO.append(small_PSO_input_results, ignore_index=True)"
      ],
      "metadata": {
        "id": "IXBCc_P6UnAn"
      },
      "execution_count": null,
      "outputs": []
    },
    {
      "cell_type": "code",
      "source": [
        "results_PSO"
      ],
      "metadata": {
        "colab": {
          "base_uri": "https://localhost:8080/",
          "height": 81
        },
        "id": "-r9EgJ4qWsVU",
        "outputId": "85fd1812-a30a-450c-c754-fec31d8ec4db"
      },
      "execution_count": 208,
      "outputs": [
        {
          "output_type": "execute_result",
          "data": {
            "text/plain": [
              "   n_shuffle_moves  percent_of_good_solutions  avg_runtime\n",
              "0              5.0                       0.22     3.179703"
            ],
            "text/html": [
              "\n",
              "  <div id=\"df-f87a3d2c-ecb6-4a36-9658-0e214d5ce753\">\n",
              "    <div class=\"colab-df-container\">\n",
              "      <div>\n",
              "<style scoped>\n",
              "    .dataframe tbody tr th:only-of-type {\n",
              "        vertical-align: middle;\n",
              "    }\n",
              "\n",
              "    .dataframe tbody tr th {\n",
              "        vertical-align: top;\n",
              "    }\n",
              "\n",
              "    .dataframe thead th {\n",
              "        text-align: right;\n",
              "    }\n",
              "</style>\n",
              "<table border=\"1\" class=\"dataframe\">\n",
              "  <thead>\n",
              "    <tr style=\"text-align: right;\">\n",
              "      <th></th>\n",
              "      <th>n_shuffle_moves</th>\n",
              "      <th>percent_of_good_solutions</th>\n",
              "      <th>avg_runtime</th>\n",
              "    </tr>\n",
              "  </thead>\n",
              "  <tbody>\n",
              "    <tr>\n",
              "      <th>0</th>\n",
              "      <td>5.0</td>\n",
              "      <td>0.22</td>\n",
              "      <td>3.179703</td>\n",
              "    </tr>\n",
              "  </tbody>\n",
              "</table>\n",
              "</div>\n",
              "      <button class=\"colab-df-convert\" onclick=\"convertToInteractive('df-f87a3d2c-ecb6-4a36-9658-0e214d5ce753')\"\n",
              "              title=\"Convert this dataframe to an interactive table.\"\n",
              "              style=\"display:none;\">\n",
              "        \n",
              "  <svg xmlns=\"http://www.w3.org/2000/svg\" height=\"24px\"viewBox=\"0 0 24 24\"\n",
              "       width=\"24px\">\n",
              "    <path d=\"M0 0h24v24H0V0z\" fill=\"none\"/>\n",
              "    <path d=\"M18.56 5.44l.94 2.06.94-2.06 2.06-.94-2.06-.94-.94-2.06-.94 2.06-2.06.94zm-11 1L8.5 8.5l.94-2.06 2.06-.94-2.06-.94L8.5 2.5l-.94 2.06-2.06.94zm10 10l.94 2.06.94-2.06 2.06-.94-2.06-.94-.94-2.06-.94 2.06-2.06.94z\"/><path d=\"M17.41 7.96l-1.37-1.37c-.4-.4-.92-.59-1.43-.59-.52 0-1.04.2-1.43.59L10.3 9.45l-7.72 7.72c-.78.78-.78 2.05 0 2.83L4 21.41c.39.39.9.59 1.41.59.51 0 1.02-.2 1.41-.59l7.78-7.78 2.81-2.81c.8-.78.8-2.07 0-2.86zM5.41 20L4 18.59l7.72-7.72 1.47 1.35L5.41 20z\"/>\n",
              "  </svg>\n",
              "      </button>\n",
              "      \n",
              "  <style>\n",
              "    .colab-df-container {\n",
              "      display:flex;\n",
              "      flex-wrap:wrap;\n",
              "      gap: 12px;\n",
              "    }\n",
              "\n",
              "    .colab-df-convert {\n",
              "      background-color: #E8F0FE;\n",
              "      border: none;\n",
              "      border-radius: 50%;\n",
              "      cursor: pointer;\n",
              "      display: none;\n",
              "      fill: #1967D2;\n",
              "      height: 32px;\n",
              "      padding: 0 0 0 0;\n",
              "      width: 32px;\n",
              "    }\n",
              "\n",
              "    .colab-df-convert:hover {\n",
              "      background-color: #E2EBFA;\n",
              "      box-shadow: 0px 1px 2px rgba(60, 64, 67, 0.3), 0px 1px 3px 1px rgba(60, 64, 67, 0.15);\n",
              "      fill: #174EA6;\n",
              "    }\n",
              "\n",
              "    [theme=dark] .colab-df-convert {\n",
              "      background-color: #3B4455;\n",
              "      fill: #D2E3FC;\n",
              "    }\n",
              "\n",
              "    [theme=dark] .colab-df-convert:hover {\n",
              "      background-color: #434B5C;\n",
              "      box-shadow: 0px 1px 3px 1px rgba(0, 0, 0, 0.15);\n",
              "      filter: drop-shadow(0px 1px 2px rgba(0, 0, 0, 0.3));\n",
              "      fill: #FFFFFF;\n",
              "    }\n",
              "  </style>\n",
              "\n",
              "      <script>\n",
              "        const buttonEl =\n",
              "          document.querySelector('#df-f87a3d2c-ecb6-4a36-9658-0e214d5ce753 button.colab-df-convert');\n",
              "        buttonEl.style.display =\n",
              "          google.colab.kernel.accessAllowed ? 'block' : 'none';\n",
              "\n",
              "        async function convertToInteractive(key) {\n",
              "          const element = document.querySelector('#df-f87a3d2c-ecb6-4a36-9658-0e214d5ce753');\n",
              "          const dataTable =\n",
              "            await google.colab.kernel.invokeFunction('convertToInteractive',\n",
              "                                                     [key], {});\n",
              "          if (!dataTable) return;\n",
              "\n",
              "          const docLinkHtml = 'Like what you see? Visit the ' +\n",
              "            '<a target=\"_blank\" href=https://colab.research.google.com/notebooks/data_table.ipynb>data table notebook</a>'\n",
              "            + ' to learn more about interactive tables.';\n",
              "          element.innerHTML = '';\n",
              "          dataTable['output_type'] = 'display_data';\n",
              "          await google.colab.output.renderOutput(dataTable, element);\n",
              "          const docLink = document.createElement('div');\n",
              "          docLink.innerHTML = docLinkHtml;\n",
              "          element.appendChild(docLink);\n",
              "        }\n",
              "      </script>\n",
              "    </div>\n",
              "  </div>\n",
              "  "
            ]
          },
          "metadata": {},
          "execution_count": 208
        }
      ]
    },
    {
      "cell_type": "markdown",
      "source": [
        "### Medium inputs PSO"
      ],
      "metadata": {
        "id": "vjkJt-BvVcfv"
      }
    },
    {
      "cell_type": "code",
      "source": [
        "elapsed_times = []\n",
        "\n",
        "n_moves_medium = 10\n",
        "n_good_solutions = 0\n",
        "\n",
        "# Define bounds that represent min and max indices from MOVES array for PSO\n",
        "bound_max = np.ones(n_moves_medium) * 11\n",
        "bound_min = np.zeros(n_moves_medium)\n",
        "\n",
        "bounds = (bound_min, bound_max)\n",
        "\n",
        "for i in range(100):\n",
        "  # Shuffle the Rubik's cube\n",
        "  cube = initialize_cube()\n",
        "  commited_moves, shuffled_cube = shuffle_cube(n_moves_medium, cube)\n",
        "\n",
        "  # Call instance of PSO\n",
        "  optimizer = ps.single.GlobalBestPSO(n_particles=n_particles, \n",
        "                                      dimensions=n_moves_medium, \n",
        "                                      options=options, \n",
        "                                      bounds=bounds)\n",
        "\n",
        "  start_time = time.time()\n",
        "\n",
        "  # Perform optimization\n",
        "  cost, pos = optimizer.optimize(f, iters=100);\n",
        "\n",
        "  end_time = time.time()\n",
        "  elapsed_times.append(end_time - start_time)\n",
        "\n",
        "  if cost <= 1:\n",
        "    n_good_solutions += 1\n",
        "\n",
        "medium_PSO_input_results = {\"n_shuffle_moves\": 10, \n",
        "                           \"percent_of_good_solutions\": n_good_solutions / 100,\n",
        "                           \"avg_runtime\": np.mean(elapsed_times)}\n",
        "\n",
        "results_PSO = results_PSO.append(medium_PSO_input_results, ignore_index=True)"
      ],
      "metadata": {
        "id": "lE1wPLdJVTr9"
      },
      "execution_count": null,
      "outputs": []
    },
    {
      "cell_type": "code",
      "source": [
        "results_PSO"
      ],
      "metadata": {
        "colab": {
          "base_uri": "https://localhost:8080/",
          "height": 112
        },
        "id": "PSDqXM6aZKpB",
        "outputId": "4911fe8b-abaf-4101-e584-6e1d9a2659a4"
      },
      "execution_count": 211,
      "outputs": [
        {
          "output_type": "execute_result",
          "data": {
            "text/plain": [
              "   n_shuffle_moves  percent_of_good_solutions  avg_runtime\n",
              "0              5.0                       0.22     3.179703\n",
              "1             10.0                       0.02     4.693503"
            ],
            "text/html": [
              "\n",
              "  <div id=\"df-f305cc65-f8e7-4d28-a378-b33479722a6b\">\n",
              "    <div class=\"colab-df-container\">\n",
              "      <div>\n",
              "<style scoped>\n",
              "    .dataframe tbody tr th:only-of-type {\n",
              "        vertical-align: middle;\n",
              "    }\n",
              "\n",
              "    .dataframe tbody tr th {\n",
              "        vertical-align: top;\n",
              "    }\n",
              "\n",
              "    .dataframe thead th {\n",
              "        text-align: right;\n",
              "    }\n",
              "</style>\n",
              "<table border=\"1\" class=\"dataframe\">\n",
              "  <thead>\n",
              "    <tr style=\"text-align: right;\">\n",
              "      <th></th>\n",
              "      <th>n_shuffle_moves</th>\n",
              "      <th>percent_of_good_solutions</th>\n",
              "      <th>avg_runtime</th>\n",
              "    </tr>\n",
              "  </thead>\n",
              "  <tbody>\n",
              "    <tr>\n",
              "      <th>0</th>\n",
              "      <td>5.0</td>\n",
              "      <td>0.22</td>\n",
              "      <td>3.179703</td>\n",
              "    </tr>\n",
              "    <tr>\n",
              "      <th>1</th>\n",
              "      <td>10.0</td>\n",
              "      <td>0.02</td>\n",
              "      <td>4.693503</td>\n",
              "    </tr>\n",
              "  </tbody>\n",
              "</table>\n",
              "</div>\n",
              "      <button class=\"colab-df-convert\" onclick=\"convertToInteractive('df-f305cc65-f8e7-4d28-a378-b33479722a6b')\"\n",
              "              title=\"Convert this dataframe to an interactive table.\"\n",
              "              style=\"display:none;\">\n",
              "        \n",
              "  <svg xmlns=\"http://www.w3.org/2000/svg\" height=\"24px\"viewBox=\"0 0 24 24\"\n",
              "       width=\"24px\">\n",
              "    <path d=\"M0 0h24v24H0V0z\" fill=\"none\"/>\n",
              "    <path d=\"M18.56 5.44l.94 2.06.94-2.06 2.06-.94-2.06-.94-.94-2.06-.94 2.06-2.06.94zm-11 1L8.5 8.5l.94-2.06 2.06-.94-2.06-.94L8.5 2.5l-.94 2.06-2.06.94zm10 10l.94 2.06.94-2.06 2.06-.94-2.06-.94-.94-2.06-.94 2.06-2.06.94z\"/><path d=\"M17.41 7.96l-1.37-1.37c-.4-.4-.92-.59-1.43-.59-.52 0-1.04.2-1.43.59L10.3 9.45l-7.72 7.72c-.78.78-.78 2.05 0 2.83L4 21.41c.39.39.9.59 1.41.59.51 0 1.02-.2 1.41-.59l7.78-7.78 2.81-2.81c.8-.78.8-2.07 0-2.86zM5.41 20L4 18.59l7.72-7.72 1.47 1.35L5.41 20z\"/>\n",
              "  </svg>\n",
              "      </button>\n",
              "      \n",
              "  <style>\n",
              "    .colab-df-container {\n",
              "      display:flex;\n",
              "      flex-wrap:wrap;\n",
              "      gap: 12px;\n",
              "    }\n",
              "\n",
              "    .colab-df-convert {\n",
              "      background-color: #E8F0FE;\n",
              "      border: none;\n",
              "      border-radius: 50%;\n",
              "      cursor: pointer;\n",
              "      display: none;\n",
              "      fill: #1967D2;\n",
              "      height: 32px;\n",
              "      padding: 0 0 0 0;\n",
              "      width: 32px;\n",
              "    }\n",
              "\n",
              "    .colab-df-convert:hover {\n",
              "      background-color: #E2EBFA;\n",
              "      box-shadow: 0px 1px 2px rgba(60, 64, 67, 0.3), 0px 1px 3px 1px rgba(60, 64, 67, 0.15);\n",
              "      fill: #174EA6;\n",
              "    }\n",
              "\n",
              "    [theme=dark] .colab-df-convert {\n",
              "      background-color: #3B4455;\n",
              "      fill: #D2E3FC;\n",
              "    }\n",
              "\n",
              "    [theme=dark] .colab-df-convert:hover {\n",
              "      background-color: #434B5C;\n",
              "      box-shadow: 0px 1px 3px 1px rgba(0, 0, 0, 0.15);\n",
              "      filter: drop-shadow(0px 1px 2px rgba(0, 0, 0, 0.3));\n",
              "      fill: #FFFFFF;\n",
              "    }\n",
              "  </style>\n",
              "\n",
              "      <script>\n",
              "        const buttonEl =\n",
              "          document.querySelector('#df-f305cc65-f8e7-4d28-a378-b33479722a6b button.colab-df-convert');\n",
              "        buttonEl.style.display =\n",
              "          google.colab.kernel.accessAllowed ? 'block' : 'none';\n",
              "\n",
              "        async function convertToInteractive(key) {\n",
              "          const element = document.querySelector('#df-f305cc65-f8e7-4d28-a378-b33479722a6b');\n",
              "          const dataTable =\n",
              "            await google.colab.kernel.invokeFunction('convertToInteractive',\n",
              "                                                     [key], {});\n",
              "          if (!dataTable) return;\n",
              "\n",
              "          const docLinkHtml = 'Like what you see? Visit the ' +\n",
              "            '<a target=\"_blank\" href=https://colab.research.google.com/notebooks/data_table.ipynb>data table notebook</a>'\n",
              "            + ' to learn more about interactive tables.';\n",
              "          element.innerHTML = '';\n",
              "          dataTable['output_type'] = 'display_data';\n",
              "          await google.colab.output.renderOutput(dataTable, element);\n",
              "          const docLink = document.createElement('div');\n",
              "          docLink.innerHTML = docLinkHtml;\n",
              "          element.appendChild(docLink);\n",
              "        }\n",
              "      </script>\n",
              "    </div>\n",
              "  </div>\n",
              "  "
            ]
          },
          "metadata": {},
          "execution_count": 211
        }
      ]
    },
    {
      "cell_type": "markdown",
      "source": [
        "### Big inputs PSO"
      ],
      "metadata": {
        "id": "7EF9R-TIj6J7"
      }
    },
    {
      "cell_type": "code",
      "source": [
        "elapsed_times = []\n",
        "\n",
        "n_moves_big = 20\n",
        "n_good_solutions = 0\n",
        "\n",
        "# Define bounds that represent min and max indices from MOVES array for PSO\n",
        "bound_max = np.ones(n_moves_big) * 11\n",
        "bound_min = np.zeros(n_moves_big)\n",
        "\n",
        "bounds = (bound_min, bound_max)\n",
        "\n",
        "for i in range(100):\n",
        "  # Shuffle the Rubik's cube\n",
        "  cube = initialize_cube()\n",
        "  commited_moves, shuffled_cube = shuffle_cube(n_moves_big, cube)\n",
        "\n",
        "  # Call instance of PSO\n",
        "  optimizer = ps.single.GlobalBestPSO(n_particles=n_particles, \n",
        "                                      dimensions=n_moves_big, \n",
        "                                      options=options, \n",
        "                                      bounds=bounds)\n",
        "\n",
        "  start_time = time.time()\n",
        "\n",
        "  # Perform optimization\n",
        "  cost, pos = optimizer.optimize(f, iters=100);\n",
        "\n",
        "  end_time = time.time()\n",
        "  elapsed_times.append(end_time - start_time)\n",
        "\n",
        "  if cost <= 1:\n",
        "    n_good_solutions += 1\n",
        "\n",
        "big_PSO_input_results = {\"n_shuffle_moves\": 20, \n",
        "                         \"percent_of_good_solutions\": n_good_solutions / 100,\n",
        "                         \"avg_runtime\": np.mean(elapsed_times)}\n",
        "\n",
        "results_PSO = results_PSO.append(big_PSO_input_results, ignore_index=True)"
      ],
      "metadata": {
        "id": "ls64tulmVjB-"
      },
      "execution_count": null,
      "outputs": []
    },
    {
      "cell_type": "code",
      "source": [
        "results_PSO"
      ],
      "metadata": {
        "colab": {
          "base_uri": "https://localhost:8080/",
          "height": 143
        },
        "id": "rKOVWE89csFA",
        "outputId": "ad060935-ae8f-4962-cde2-a696a348f0ef"
      },
      "execution_count": 217,
      "outputs": [
        {
          "output_type": "execute_result",
          "data": {
            "text/plain": [
              "   n_shuffle_moves  percent_of_good_solutions  avg_runtime\n",
              "0              5.0                       0.22     3.179703\n",
              "1             10.0                       0.02     4.693503\n",
              "2             20.0                       0.00     7.839291"
            ],
            "text/html": [
              "\n",
              "  <div id=\"df-f25d9168-38e8-459b-94c0-df252d7ab222\">\n",
              "    <div class=\"colab-df-container\">\n",
              "      <div>\n",
              "<style scoped>\n",
              "    .dataframe tbody tr th:only-of-type {\n",
              "        vertical-align: middle;\n",
              "    }\n",
              "\n",
              "    .dataframe tbody tr th {\n",
              "        vertical-align: top;\n",
              "    }\n",
              "\n",
              "    .dataframe thead th {\n",
              "        text-align: right;\n",
              "    }\n",
              "</style>\n",
              "<table border=\"1\" class=\"dataframe\">\n",
              "  <thead>\n",
              "    <tr style=\"text-align: right;\">\n",
              "      <th></th>\n",
              "      <th>n_shuffle_moves</th>\n",
              "      <th>percent_of_good_solutions</th>\n",
              "      <th>avg_runtime</th>\n",
              "    </tr>\n",
              "  </thead>\n",
              "  <tbody>\n",
              "    <tr>\n",
              "      <th>0</th>\n",
              "      <td>5.0</td>\n",
              "      <td>0.22</td>\n",
              "      <td>3.179703</td>\n",
              "    </tr>\n",
              "    <tr>\n",
              "      <th>1</th>\n",
              "      <td>10.0</td>\n",
              "      <td>0.02</td>\n",
              "      <td>4.693503</td>\n",
              "    </tr>\n",
              "    <tr>\n",
              "      <th>2</th>\n",
              "      <td>20.0</td>\n",
              "      <td>0.00</td>\n",
              "      <td>7.839291</td>\n",
              "    </tr>\n",
              "  </tbody>\n",
              "</table>\n",
              "</div>\n",
              "      <button class=\"colab-df-convert\" onclick=\"convertToInteractive('df-f25d9168-38e8-459b-94c0-df252d7ab222')\"\n",
              "              title=\"Convert this dataframe to an interactive table.\"\n",
              "              style=\"display:none;\">\n",
              "        \n",
              "  <svg xmlns=\"http://www.w3.org/2000/svg\" height=\"24px\"viewBox=\"0 0 24 24\"\n",
              "       width=\"24px\">\n",
              "    <path d=\"M0 0h24v24H0V0z\" fill=\"none\"/>\n",
              "    <path d=\"M18.56 5.44l.94 2.06.94-2.06 2.06-.94-2.06-.94-.94-2.06-.94 2.06-2.06.94zm-11 1L8.5 8.5l.94-2.06 2.06-.94-2.06-.94L8.5 2.5l-.94 2.06-2.06.94zm10 10l.94 2.06.94-2.06 2.06-.94-2.06-.94-.94-2.06-.94 2.06-2.06.94z\"/><path d=\"M17.41 7.96l-1.37-1.37c-.4-.4-.92-.59-1.43-.59-.52 0-1.04.2-1.43.59L10.3 9.45l-7.72 7.72c-.78.78-.78 2.05 0 2.83L4 21.41c.39.39.9.59 1.41.59.51 0 1.02-.2 1.41-.59l7.78-7.78 2.81-2.81c.8-.78.8-2.07 0-2.86zM5.41 20L4 18.59l7.72-7.72 1.47 1.35L5.41 20z\"/>\n",
              "  </svg>\n",
              "      </button>\n",
              "      \n",
              "  <style>\n",
              "    .colab-df-container {\n",
              "      display:flex;\n",
              "      flex-wrap:wrap;\n",
              "      gap: 12px;\n",
              "    }\n",
              "\n",
              "    .colab-df-convert {\n",
              "      background-color: #E8F0FE;\n",
              "      border: none;\n",
              "      border-radius: 50%;\n",
              "      cursor: pointer;\n",
              "      display: none;\n",
              "      fill: #1967D2;\n",
              "      height: 32px;\n",
              "      padding: 0 0 0 0;\n",
              "      width: 32px;\n",
              "    }\n",
              "\n",
              "    .colab-df-convert:hover {\n",
              "      background-color: #E2EBFA;\n",
              "      box-shadow: 0px 1px 2px rgba(60, 64, 67, 0.3), 0px 1px 3px 1px rgba(60, 64, 67, 0.15);\n",
              "      fill: #174EA6;\n",
              "    }\n",
              "\n",
              "    [theme=dark] .colab-df-convert {\n",
              "      background-color: #3B4455;\n",
              "      fill: #D2E3FC;\n",
              "    }\n",
              "\n",
              "    [theme=dark] .colab-df-convert:hover {\n",
              "      background-color: #434B5C;\n",
              "      box-shadow: 0px 1px 3px 1px rgba(0, 0, 0, 0.15);\n",
              "      filter: drop-shadow(0px 1px 2px rgba(0, 0, 0, 0.3));\n",
              "      fill: #FFFFFF;\n",
              "    }\n",
              "  </style>\n",
              "\n",
              "      <script>\n",
              "        const buttonEl =\n",
              "          document.querySelector('#df-f25d9168-38e8-459b-94c0-df252d7ab222 button.colab-df-convert');\n",
              "        buttonEl.style.display =\n",
              "          google.colab.kernel.accessAllowed ? 'block' : 'none';\n",
              "\n",
              "        async function convertToInteractive(key) {\n",
              "          const element = document.querySelector('#df-f25d9168-38e8-459b-94c0-df252d7ab222');\n",
              "          const dataTable =\n",
              "            await google.colab.kernel.invokeFunction('convertToInteractive',\n",
              "                                                     [key], {});\n",
              "          if (!dataTable) return;\n",
              "\n",
              "          const docLinkHtml = 'Like what you see? Visit the ' +\n",
              "            '<a target=\"_blank\" href=https://colab.research.google.com/notebooks/data_table.ipynb>data table notebook</a>'\n",
              "            + ' to learn more about interactive tables.';\n",
              "          element.innerHTML = '';\n",
              "          dataTable['output_type'] = 'display_data';\n",
              "          await google.colab.output.renderOutput(dataTable, element);\n",
              "          const docLink = document.createElement('div');\n",
              "          docLink.innerHTML = docLinkHtml;\n",
              "          element.appendChild(docLink);\n",
              "        }\n",
              "      </script>\n",
              "    </div>\n",
              "  </div>\n",
              "  "
            ]
          },
          "metadata": {},
          "execution_count": 217
        }
      ]
    },
    {
      "cell_type": "code",
      "source": [
        "results"
      ],
      "metadata": {
        "colab": {
          "base_uri": "https://localhost:8080/",
          "height": 143
        },
        "id": "GEUNePxmc13l",
        "outputId": "ecee9e79-5e2a-43fa-8313-1bc5bc2070bb"
      },
      "execution_count": 218,
      "outputs": [
        {
          "output_type": "execute_result",
          "data": {
            "text/plain": [
              "   n_shuffle_moves  percent_of_good_solutions  avg_runtime\n",
              "0              5.0                       0.65     1.494241\n",
              "1             10.0                       0.41     3.261845\n",
              "2             20.0                       0.00     8.088125"
            ],
            "text/html": [
              "\n",
              "  <div id=\"df-6be79b37-df5e-436d-a93f-37ba46384e3a\">\n",
              "    <div class=\"colab-df-container\">\n",
              "      <div>\n",
              "<style scoped>\n",
              "    .dataframe tbody tr th:only-of-type {\n",
              "        vertical-align: middle;\n",
              "    }\n",
              "\n",
              "    .dataframe tbody tr th {\n",
              "        vertical-align: top;\n",
              "    }\n",
              "\n",
              "    .dataframe thead th {\n",
              "        text-align: right;\n",
              "    }\n",
              "</style>\n",
              "<table border=\"1\" class=\"dataframe\">\n",
              "  <thead>\n",
              "    <tr style=\"text-align: right;\">\n",
              "      <th></th>\n",
              "      <th>n_shuffle_moves</th>\n",
              "      <th>percent_of_good_solutions</th>\n",
              "      <th>avg_runtime</th>\n",
              "    </tr>\n",
              "  </thead>\n",
              "  <tbody>\n",
              "    <tr>\n",
              "      <th>0</th>\n",
              "      <td>5.0</td>\n",
              "      <td>0.65</td>\n",
              "      <td>1.494241</td>\n",
              "    </tr>\n",
              "    <tr>\n",
              "      <th>1</th>\n",
              "      <td>10.0</td>\n",
              "      <td>0.41</td>\n",
              "      <td>3.261845</td>\n",
              "    </tr>\n",
              "    <tr>\n",
              "      <th>2</th>\n",
              "      <td>20.0</td>\n",
              "      <td>0.00</td>\n",
              "      <td>8.088125</td>\n",
              "    </tr>\n",
              "  </tbody>\n",
              "</table>\n",
              "</div>\n",
              "      <button class=\"colab-df-convert\" onclick=\"convertToInteractive('df-6be79b37-df5e-436d-a93f-37ba46384e3a')\"\n",
              "              title=\"Convert this dataframe to an interactive table.\"\n",
              "              style=\"display:none;\">\n",
              "        \n",
              "  <svg xmlns=\"http://www.w3.org/2000/svg\" height=\"24px\"viewBox=\"0 0 24 24\"\n",
              "       width=\"24px\">\n",
              "    <path d=\"M0 0h24v24H0V0z\" fill=\"none\"/>\n",
              "    <path d=\"M18.56 5.44l.94 2.06.94-2.06 2.06-.94-2.06-.94-.94-2.06-.94 2.06-2.06.94zm-11 1L8.5 8.5l.94-2.06 2.06-.94-2.06-.94L8.5 2.5l-.94 2.06-2.06.94zm10 10l.94 2.06.94-2.06 2.06-.94-2.06-.94-.94-2.06-.94 2.06-2.06.94z\"/><path d=\"M17.41 7.96l-1.37-1.37c-.4-.4-.92-.59-1.43-.59-.52 0-1.04.2-1.43.59L10.3 9.45l-7.72 7.72c-.78.78-.78 2.05 0 2.83L4 21.41c.39.39.9.59 1.41.59.51 0 1.02-.2 1.41-.59l7.78-7.78 2.81-2.81c.8-.78.8-2.07 0-2.86zM5.41 20L4 18.59l7.72-7.72 1.47 1.35L5.41 20z\"/>\n",
              "  </svg>\n",
              "      </button>\n",
              "      \n",
              "  <style>\n",
              "    .colab-df-container {\n",
              "      display:flex;\n",
              "      flex-wrap:wrap;\n",
              "      gap: 12px;\n",
              "    }\n",
              "\n",
              "    .colab-df-convert {\n",
              "      background-color: #E8F0FE;\n",
              "      border: none;\n",
              "      border-radius: 50%;\n",
              "      cursor: pointer;\n",
              "      display: none;\n",
              "      fill: #1967D2;\n",
              "      height: 32px;\n",
              "      padding: 0 0 0 0;\n",
              "      width: 32px;\n",
              "    }\n",
              "\n",
              "    .colab-df-convert:hover {\n",
              "      background-color: #E2EBFA;\n",
              "      box-shadow: 0px 1px 2px rgba(60, 64, 67, 0.3), 0px 1px 3px 1px rgba(60, 64, 67, 0.15);\n",
              "      fill: #174EA6;\n",
              "    }\n",
              "\n",
              "    [theme=dark] .colab-df-convert {\n",
              "      background-color: #3B4455;\n",
              "      fill: #D2E3FC;\n",
              "    }\n",
              "\n",
              "    [theme=dark] .colab-df-convert:hover {\n",
              "      background-color: #434B5C;\n",
              "      box-shadow: 0px 1px 3px 1px rgba(0, 0, 0, 0.15);\n",
              "      filter: drop-shadow(0px 1px 2px rgba(0, 0, 0, 0.3));\n",
              "      fill: #FFFFFF;\n",
              "    }\n",
              "  </style>\n",
              "\n",
              "      <script>\n",
              "        const buttonEl =\n",
              "          document.querySelector('#df-6be79b37-df5e-436d-a93f-37ba46384e3a button.colab-df-convert');\n",
              "        buttonEl.style.display =\n",
              "          google.colab.kernel.accessAllowed ? 'block' : 'none';\n",
              "\n",
              "        async function convertToInteractive(key) {\n",
              "          const element = document.querySelector('#df-6be79b37-df5e-436d-a93f-37ba46384e3a');\n",
              "          const dataTable =\n",
              "            await google.colab.kernel.invokeFunction('convertToInteractive',\n",
              "                                                     [key], {});\n",
              "          if (!dataTable) return;\n",
              "\n",
              "          const docLinkHtml = 'Like what you see? Visit the ' +\n",
              "            '<a target=\"_blank\" href=https://colab.research.google.com/notebooks/data_table.ipynb>data table notebook</a>'\n",
              "            + ' to learn more about interactive tables.';\n",
              "          element.innerHTML = '';\n",
              "          dataTable['output_type'] = 'display_data';\n",
              "          await google.colab.output.renderOutput(dataTable, element);\n",
              "          const docLink = document.createElement('div');\n",
              "          docLink.innerHTML = docLinkHtml;\n",
              "          element.appendChild(docLink);\n",
              "        }\n",
              "      </script>\n",
              "    </div>\n",
              "  </div>\n",
              "  "
            ]
          },
          "metadata": {},
          "execution_count": 218
        }
      ]
    },
    {
      "cell_type": "code",
      "source": [
        "# Plot PSO results vs GA results\n",
        "fig, ax = plt.subplots(figsize=(12, 6))\n",
        "\n",
        "y_pos = np.arange(len(results[\"n_shuffle_moves\"]))\n",
        "width = 0.3\n",
        "\n",
        "ax.barh(y_pos, results[\"percent_of_good_solutions\"], width, color=\"b\", label=\"GA\")\n",
        "ax.barh(y_pos + width, results_PSO[\"percent_of_good_solutions\"], width, color=\"g\", label=\"PSO\")\n",
        "ax.set_yticks(y_pos, labels=results[\"n_shuffle_moves\"])\n",
        "ax.set_xlabel('Percentage of good solutions')\n",
        "ax.set_ylabel('Number of shuffle moves')\n",
        "ax.set_title('Comparison of GA vs PSO accuracy')\n",
        "\n",
        "ax.set(yticks=y_pos + width, \n",
        "       yticklabels=results[\"n_shuffle_moves\"], \n",
        "       ylim=[2 * width - 1, len(results)])\n",
        "\n",
        "plt.legend()\n",
        "\n",
        "plt.show();"
      ],
      "metadata": {
        "colab": {
          "base_uri": "https://localhost:8080/",
          "height": 573
        },
        "id": "fZKUkW62c9h6",
        "outputId": "39ae413e-e2ee-415c-fda6-6471f1ecae59"
      },
      "execution_count": 243,
      "outputs": [
        {
          "output_type": "display_data",
          "data": {
            "text/plain": [
              "<Figure size 1200x600 with 1 Axes>"
            ],
            "image/png": "[encoded data removed]"
          },
          "metadata": {}
        }
      ]
    },
    {
      "cell_type": "code",
      "source": [
        "# Plot PSO time vs GA time\n",
        "fig, ax = plt.subplots(figsize=(12, 6))\n",
        "\n",
        "y_pos = np.arange(len(results[\"n_shuffle_moves\"]))\n",
        "\n",
        "width = 0.3\n",
        "\n",
        "ax.barh(y_pos + width, results_PSO[\"avg_runtime\"], width, color=\"g\", label=\"PSO\")\n",
        "ax.barh(y_pos, results[\"avg_runtime\"], width, color=\"b\", label=\"GA\")\n",
        "ax.set_yticks(y_pos, labels=results[\"n_shuffle_moves\"])\n",
        "ax.set_xlabel('Average runtime (in seconds)')\n",
        "ax.set_ylabel('Number of shuffle moves')\n",
        "ax.set_title('Comparison of GA vs PSO time performance')\n",
        "plt.legend()\n",
        "\n",
        "ax.set(yticks=y_pos + width, \n",
        "       yticklabels=results[\"n_shuffle_moves\"], \n",
        "       ylim=[2 * width - 1, len(results)])\n",
        "\n",
        "plt.show();"
      ],
      "metadata": {
        "colab": {
          "base_uri": "https://localhost:8080/",
          "height": 573
        },
        "id": "-Fn6Yt3Odblc",
        "outputId": "5bcfe81d-79ba-4491-cb5a-d0a233bc0757"
      },
      "execution_count": 245,
      "outputs": [
        {
          "output_type": "display_data",
          "data": {
            "text/plain": [
              "<Figure size 1200x600 with 1 Axes>"
            ],
            "image/png": "[encoded data removed]"
          },
          "metadata": {}
        }
      ]
    },
    {
      "cell_type": "markdown",
      "source": [
        "# Conclusion\n",
        "\n",
        "In the experiments above we assumed that length of genes and dimensions that could lead to solving Rubik's cube using GA and PSO should equal to the size of the input. We know that if we make e.g. 10 moves, the Rubik's cube can be solved in **the same number of moves** (but it can surely still be solved with higher number of moves and there is a chance to solve it in less moves)\n",
        "\n",
        "As we can see above, **GA performed better on medium and small inputs** in terms of run time and percentage of good solutions.\n",
        "\n",
        "Both experiments were performed on a length of 100 iterations (or generations) with number of particles (or genes) respectively to the size of input (5, 10 and 20).\n",
        "\n",
        "GA performed good on small and medium inputs, but we can assume that running the algorithm for more generations would improve the overall score.\n",
        "\n",
        "The same goes to the PSO; improving number of iterations would improve the overall score since **most of the scores in small and medium input range were close to evaluation metric** (which was 1 - all the moves were sufficient to solve the Rubik's cube).\n",
        "\n",
        "So in conclusion, AG performs better at solving Rubik's cube (according to our hyperparameter choice and size of inputs), but it could benefit more from advanced fitness function, which in our case only checks for right positioning of single cubies."
      ],
      "metadata": {
        "id": "Mvuwi2XGfNKn"
      }
    }
  ]
}