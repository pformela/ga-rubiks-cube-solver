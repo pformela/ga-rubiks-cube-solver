{
  "nbformat": 4,
  "nbformat_minor": 0,
  "metadata": {
    "colab": {
      "provenance": []
    },
    "kernelspec": {
      "name": "python3",
      "display_name": "Python 3"
    },
    "language_info": {
      "name": "python"
    }
  },
  "cells": [
    {
      "cell_type": "markdown",
      "source": [
        "# Optimal solution for the N×N×N Rubik's Cube\n",
        "\n",
        "<img src=\"https://w7.pngwing.com/pngs/754/347/png-transparent-3-by-3-rubik-s-cube-rubiks-cube-professors-cube-rubik-039-s-cube-symmetry-cube-toy-thumbnail.png\"/>"
      ],
      "metadata": {
        "id": "G6zLYcKQPEDS"
      }
    },
    {
      "cell_type": "markdown",
      "source": [
        "## Defining all possible moves\n",
        "\n",
        "<img src=\"https://uploads-ssl.webflow.com/621fc3d35d2503efbb52fe84/621fc3d35d25030ff3530054_twisting.jpeg\"/>\n",
        "\n",
        "For 3x3 Rubik's Cube:\n",
        "* R - right side up,\n",
        "* Ri - right side down,\n",
        "* L - left side down,\n",
        "* Li - left side up,\n",
        "* B - back side left,\n",
        "* Bi - back side right,\n",
        "* F - front side right,\n",
        "* Fi - front side left,\n",
        "* D - bottom side right,\n",
        "* Di - bottom side left,\n",
        "* U - top side left,\n",
        "* Ui - top side right\n",
        "\n",
        "So in total we can make 12 moves for 3x3x3 rubik's cube.\n"
      ],
      "metadata": {
        "id": "rmxp66dmPNY-"
      }
    },
    {
      "cell_type": "markdown",
      "source": [
        "## Experiments for 3x3x3 rubik's cube\n",
        "\n",
        "We will perform some experiments to determine the best way to *make Rubik's cube moves* but in code"
      ],
      "metadata": {
        "id": "b9-qV5tSP-z0"
      }
    },
    {
      "cell_type": "markdown",
      "source": [
        "### Color codes\n",
        "* 1 - white\n",
        "* 2 - yellow\n",
        "* 3 - red\n",
        "* 4 - orange\n",
        "* 5 - blue\n",
        "* 6 - green"
      ],
      "metadata": {
        "id": "QnYAn2nZV8ik"
      }
    },
    {
      "cell_type": "code",
      "source": [
        "# Define a list of possible moves\n",
        "moves = [\"U\", \"U'\", \"D\", \"D'\", \"R\", \"R'\", \"L\", \"L'\", \"F\", \"F'\", \"B\", \"B'\"]"
      ],
      "metadata": {
        "id": "rzyCAs8UTvWi"
      },
      "execution_count": 1,
      "outputs": []
    },
    {
      "cell_type": "code",
      "source": [
        "import numpy as np\n",
        "\n",
        "def initialize_cube():\n",
        "  cube = np.zeros((6, 3, 3), dtype=np.int8)\n",
        "\n",
        "  # Front face - green\n",
        "  cube[0] = np.full((3, 3), 1)\n",
        "\n",
        "  # Back face - blue\n",
        "  cube[1] = np.full((3, 3), 2)\n",
        "\n",
        "  # Left face - red\n",
        "  cube[2] = np.full((3, 3), 3)\n",
        "\n",
        "  # Right face - orange\n",
        "  cube[3] = np.full((3, 3), 4)\n",
        "\n",
        "  # Top face - yellow\n",
        "  cube[4] = np.full((3, 3), 5)\n",
        "\n",
        "  # Bottom face - white\n",
        "  cube[5] = np.full((3, 3), 6)\n",
        "\n",
        "  return cube"
      ],
      "metadata": {
        "id": "xyKyh-cgW9a0"
      },
      "execution_count": 2,
      "outputs": []
    },
    {
      "cell_type": "code",
      "source": [
        "import matplotlib.pyplot as plt\n",
        "\n",
        "# Define the colors of each face of the Rubik's Cube\n",
        "colors = ['green', 'blue', 'red', 'orange', 'yellow', 'white']\n",
        "\n",
        "cube_sides = {\"front\": 0, \n",
        "              \"back\": 1, \n",
        "              \"left\": 2, \n",
        "              \"right\": 3, \n",
        "              \"top\": 4, \n",
        "              \"bottom\": 5}\n",
        "\n",
        "colour_palette = {\n",
        "    'blue': [0, 0, 255],\n",
        "    'green': [0, 255, 0],  # green\n",
        "    'red': [255, 0, 0],  # red\n",
        "    'orange': [255, 153, 51],  # orange\n",
        "    'white': [255, 255, 255],  # white\n",
        "    'yellow': [255, 255, 0],  # yellow\n",
        "}\n",
        "\n",
        "# Front face cube[0]\n",
        "# Back face  cube[1]\n",
        "# Left face cube[2]\n",
        "# Right face cube[3]\n",
        "# Top face cube[4]\n",
        "# Bottom face cube[5]\n",
        "\n",
        "def plot_cube_side(cube, sides, axes):\n",
        "  if len(sides) == 1:\n",
        "    axes.set_title(sides[0])\n",
        "\n",
        "    x = np.arange(0, 3)\n",
        "    y = np.arange(0, 3)\n",
        "    xx, yy = np.meshgrid(x, y)\n",
        "\n",
        "    # Draw the vertical and horizontal lines of the mesh\n",
        "    axes.hlines(y + 0.5, xmin=-0.5, xmax=2.5, color='black', linewidth=1)\n",
        "    axes.vlines(x + 0.5, ymin=-0.5, ymax=2.5, color='black', linewidth=1)\n",
        "    \n",
        "    # Convert the numpy array for the current face to a list of colors\n",
        "    side = np.array([])\n",
        "    for row in range(3):\n",
        "        for col in range(3):\n",
        "            colour = colour_palette[colors[cube[cube_sides[sides[0]]][row][col] - 1]]\n",
        "            side = np.append(side, colour)\n",
        "    \n",
        "    # Reshape the list of colors into a 3x3 grid and plot it\n",
        "    axes.imshow(side.reshape(3, 3, 3) / 255.)\n",
        "\n",
        "    # Hide the axis ticks and labels\n",
        "    axes.set_xticks([])\n",
        "    axes.set_yticks([])\n",
        "  else:\n",
        "    for i, ax in enumerate(axes):\n",
        "      # Set the title of the subplot to the name of the corresponding face\n",
        "      ax.set_title(sides[i])\n",
        "\n",
        "      x = np.arange(0, 3)\n",
        "      y = np.arange(0, 3)\n",
        "      xx, yy = np.meshgrid(x, y)\n",
        "\n",
        "      # Draw the vertical and horizontal lines of the mesh\n",
        "      ax.hlines(y + 0.5, xmin=-0.5, xmax=2.5, color='black', linewidth=1)\n",
        "      ax.vlines(x + 0.5, ymin=-0.5, ymax=2.5, color='black', linewidth=1)\n",
        "      \n",
        "      # Convert the numpy array for the current face to a list of colors\n",
        "      side = np.array([])\n",
        "      for row in range(3):\n",
        "          for col in range(3):\n",
        "              colour = colour_palette[colors[cube[cube_sides[sides[i]]][row][col] - 1]]\n",
        "              side = np.append(side, colour)\n",
        "      \n",
        "      # Reshape the list of colors into a 3x3 grid and plot it using a heatmap\n",
        "      ax.imshow(side.reshape(3, 3, 3) / 255.)\n",
        "\n",
        "      # Hide the axis ticks and labels\n",
        "      ax.set_xticks([])\n",
        "      ax.set_yticks([])\n"
      ],
      "metadata": {
        "id": "L_d_eaGXnmvk"
      },
      "execution_count": 3,
      "outputs": []
    },
    {
      "cell_type": "code",
      "source": [
        "cube = initialize_cube()"
      ],
      "metadata": {
        "id": "JeDl9BsDu4Ec"
      },
      "execution_count": 4,
      "outputs": []
    },
    {
      "cell_type": "code",
      "source": [
        "def plot_cube(cube, size=3):\n",
        "  fig, axes = plt.subplots(nrows=4, ncols=size, figsize=(6, 8))\n",
        "  plot_cube_side(cube, ['top'], axes=axes[0, 1])\n",
        "  plot_cube_side(cube, ['left', 'front', 'right'], axes=axes[1])\n",
        "  plot_cube_side(cube, ['bottom'], axes=axes[2, 1])\n",
        "  plot_cube_side(cube, ['back'], axes=axes[3, 1])\n",
        "\n",
        "  axes[0, 0].set_axis_off()\n",
        "  axes[0, 2].set_axis_off()\n",
        "  axes[2, 0].set_axis_off()\n",
        "  axes[2, 2].set_axis_off()\n",
        "  axes[3, 0].set_axis_off()\n",
        "  axes[3, 2].set_axis_off()\n",
        "\n",
        "  plt.show();"
      ],
      "metadata": {
        "id": "Ko_6JV69nfRy"
      },
      "execution_count": 5,
      "outputs": []
    },
    {
      "cell_type": "code",
      "source": [
        "# Front face cube[0]\n",
        "# Back face  cube[1]\n",
        "# Left face cube[2]\n",
        "# Right face cube[3]\n",
        "# Top face cube[4]\n",
        "# Bottom face cube[5]"
      ],
      "metadata": {
        "id": "QJENp1Fe-BcB"
      },
      "execution_count": 6,
      "outputs": []
    },
    {
      "cell_type": "code",
      "source": [
        "cube = initialize_cube()"
      ],
      "metadata": {
        "id": "yhW0xt6bwe-2"
      },
      "execution_count": 7,
      "outputs": []
    },
    {
      "cell_type": "code",
      "source": [
        "plot_cube(cube)"
      ],
      "metadata": {
        "colab": {
          "base_uri": "https://localhost:8080/",
          "height": 675
        },
        "id": "GqIpu8NNo20Q",
        "outputId": "642531ae-f957-4a55-a368-6e8c6bc98c85"
      },
      "execution_count": 8,
      "outputs": [
        {
          "output_type": "display_data",
          "data": {
            "text/plain": [
              "<Figure size 600x800 with 12 Axes>"
            ],
            "image/png": "[encoded data removed]"
          },
          "metadata": {}
        }
      ]
    },
    {
      "cell_type": "code",
      "source": [
        "def make_move(cube, move):\n",
        "  if move == \"F\":\n",
        "    cube[0] = np.rot90(cube[0], k=-1) # rotate front face clockwise\n",
        "    tmp = np.copy(cube[4, -1]) # last top row\n",
        "    cube[4, -1] = np.flip(cube[2, :, -1]) # change last top row to last left column\n",
        "    cube[2, :, -1] = cube[5, 0] # change last left column to first bottom row\n",
        "    cube[5, 0] = np.flip(cube[3, :, 0]) # change first bottom row to first right column\n",
        "    cube[3, :, 0] = tmp # change first right column to top last row\n",
        "  elif move == \"F'\":\n",
        "    cube[0] = np.rot90(cube[0], k=1) # rotate front face counter clockwise\n",
        "    tmp = np.copy(cube[4, -1]) # last top row\n",
        "    cube[4, -1] = cube[3, :, 0] # change last top row to first right column\n",
        "    cube[3, :, 0] = np.flip(cube[5, 0]) # change first right column to first bottom row\n",
        "    cube[5, 0] = cube[2, :, -1] # change first bottom row to last left column\n",
        "    cube[2, :, -1] = np.flip(tmp) # change last left column to top last row\n",
        "  elif move == \"D\":\n",
        "    cube[5] = np.rot90(cube[5], k=-1) # rotate bottom face clockwise\n",
        "    tmp = np.copy(cube[0, -1]) # last front row\n",
        "    cube[0, -1] = cube[2, -1] # last front row to last left row\n",
        "    cube[2, -1] = cube[1, 0] # last left row to first back row\n",
        "    cube[1, 0] = np.flip(cube[3, -1]) # first back row to last right row\n",
        "    cube[3, -1] = tmp # last right row to last front row\n",
        "  elif move == \"D'\":\n",
        "    cube[5] = np.rot90(cube[5], k=1) # rotate bottom face counter clockwise\n",
        "    tmp = np.copy(cube[0, -1]) # last front row\n",
        "    cube[0, -1] = cube[3, -1] # last front row to last right row\n",
        "    cube[3, -1] = cube[1, 0] # first right row to last back row\n",
        "    cube[1, 0] = np.flip(cube[2, -1]) # first back row to last left row\n",
        "    cube[2, -1] = tmp # last left row to last front row\n",
        "  elif move == \"U'\":\n",
        "    cube[4] = np.rot90(cube[4], k=1)# rotate top face counter clockwise\n",
        "    tmp = np.copy(cube[0, 0]) # top front row\n",
        "    cube[0, 0] = cube[2, 0] # first front row to first left row\n",
        "    cube[2, 0] = np.flip(cube[1, -1]) # first left row to last back row\n",
        "    cube[1, -1] = np.flip(cube[3, 0]) # last back row to first right row\n",
        "    cube[3, 0] = tmp # first right row to first front row\n",
        "  elif move == \"U\":\n",
        "    cube[4] = np.rot90(cube[4], k=-1)# rotate top face clockwise\n",
        "    tmp = np.copy(cube[0, 0]) # top front row\n",
        "    cube[0, 0] = cube[3, 0] # first front row to first right row\n",
        "    cube[3, 0] = np.flip(cube[1, -1]) # first right row to last back row\n",
        "    cube[1, -1] = np.flip(cube[2, 0]) # last back row to first left row\n",
        "    cube[2, 0] = tmp # first left row to first front row\n",
        "  elif move == \"B'\":\n",
        "    cube[1] = np.rot90(cube[1], k=1)# rotate back face counter clockwise\n",
        "    tmp = np.copy(cube[4, 0]) # first top row\n",
        "    cube[4, 0] = np.flip(cube[2, :, 0]) # first top row to first left column\n",
        "    cube[2, :, 0] = cube[5, -1] # first left column to last bottom row\n",
        "    cube[5, -1] = np.flip(cube[3, :, -1]) # last bottom row to last right column\n",
        "    cube[3, :, -1] = tmp # last right column to first top row\n",
        "  elif move == \"B\":\n",
        "    cube[1] = np.rot90(cube[1], k=-1)# rotate back face clockwise\n",
        "    tmp = np.copy(cube[4, 0]) # first top row\n",
        "    cube[4, 0] = cube[3, :, -1] # first top row to last right column\n",
        "    cube[3, :, -1] = np.flip(cube[5, -1]) # last right column to last bottom row\n",
        "    cube[5, -1] = cube[2, :, 0] # last bottom row to first left column\n",
        "    cube[2, :, 0] = np.flip(tmp) # first left column to first top row\n",
        "  elif move == \"R\":\n",
        "    cube[3] = np.rot90(cube[3], k=-1) # rotate right face clockwise\n",
        "    tmp = np.copy(cube[4, :, -1]) # last top column\n",
        "    cube[4, :, -1] = cube[0, :, -1] # last top column to last front column\n",
        "    cube[0, :, -1] = cube[5, :, -1] # last front column to last bottom column\n",
        "    cube[5, :, -1] = cube[1, :, -1] # last bottom column to last back column\n",
        "    cube[1, :, -1] = tmp # last back column to last top column\n",
        "  elif move == \"R'\":\n",
        "    cube[3] = np.rot90(cube[3], k=1) # rotate right face counter clockwise\n",
        "    tmp = np.copy(cube[4, :, -1]) # last top column\n",
        "    cube[4, :, -1] = cube[1, :, -1] # last top column to last back column\n",
        "    cube[1, :, -1] = cube[5, :, -1] # last back column to last bottom column\n",
        "    cube[5, :, -1] = cube[0, :, -1] # last bottom column to last front column\n",
        "    cube[0, :, -1] = tmp # last front column to last top column\n",
        "  elif move == \"L\":\n",
        "    cube[2] = np.rot90(cube[2], k=-1) # rotate left face clockwise\n",
        "    tmp = np.copy(cube[4, :, 0]) # first top column\n",
        "    cube[4, :, 0] = cube[1, :, 0] # first top column to first back column\n",
        "    cube[1, :, 0] = cube[5, :, 0] # first back column to first bottom column\n",
        "    cube[5, :, 0] = cube[0, :, 0] # first bottom column to first front column\n",
        "    cube[0, :, 0] = tmp # first front column to first top column\n",
        "  elif move == \"L'\":\n",
        "    cube[2] = np.rot90(cube[2], k=1) # rotate left face counter clockwise\n",
        "    tmp = np.copy(cube[4, :, 0]) # first top column\n",
        "    cube[4, :, 0] = cube[0, :, 0] # first top column to first front column\n",
        "    cube[0, :, 0] = cube[5, :, 0] # first front column to first bottom column\n",
        "    cube[5, :, 0] = cube[1, :, 0] # first bottom column to first back column\n",
        "    cube[1, :, 0] = tmp # first back column to first top column\n",
        "\n",
        "  return cube"
      ],
      "metadata": {
        "id": "T87vXYPVcAz2"
      },
      "execution_count": 119,
      "outputs": []
    },
    {
      "cell_type": "markdown",
      "source": [
        "<img src=\"https://uploads-ssl.webflow.com/621fc3d35d2503efbb52fe84/621fc3d35d25030ff3530054_twisting.jpeg\"/>"
      ],
      "metadata": {
        "id": "yr8sRe2GLLts"
      }
    },
    {
      "cell_type": "code",
      "source": [
        "moves = np.array([\"U\", \"U'\", \"D\", \"D'\", \"R\", \"R'\", \"L\", \"L'\", \"F\", \"F'\", \"B\", \"B'\"])\n",
        "\n",
        "def shuffle_cube(n_moves, cube):\n",
        "  commited_moves = []\n",
        "\n",
        "  for i in range(n_moves):\n",
        "    move = np.random.choice(moves)\n",
        "    commited_moves.append(move)\n",
        "    cube = make_move(cube, move)\n",
        "\n",
        "  return commited_moves"
      ],
      "metadata": {
        "id": "0NGX7WUz-F6V"
      },
      "execution_count": 24,
      "outputs": []
    },
    {
      "cell_type": "code",
      "source": [
        "cube = initialize_cube()\n",
        "plot_cube(cube)"
      ],
      "metadata": {
        "colab": {
          "base_uri": "https://localhost:8080/",
          "height": 675
        },
        "id": "jrJOVkj8_OrI",
        "outputId": "dd817432-2fa3-4d63-cdde-993a2b595b36"
      },
      "execution_count": 25,
      "outputs": [
        {
          "output_type": "display_data",
          "data": {
            "text/plain": [
              "<Figure size 600x800 with 12 Axes>"
            ],
            "image/png": "[encoded data removed]"
          },
          "metadata": {}
        }
      ]
    },
    {
      "cell_type": "code",
      "source": [
        "cube = initialize_cube()\n",
        "moves = np.array([\"U\", \"U'\", \"D\", \"D'\", \"R\", \"R'\", \"L\", \"L'\", \"F\", \"F'\", \"B\", \"B'\"])\n",
        "commited_moves = shuffle_cube(10, cube)\n",
        "\n",
        "# cube = make_move(cube, \"F\")\n",
        "plot_cube(cube)\n",
        "print(commited_moves)"
      ],
      "metadata": {
        "colab": {
          "base_uri": "https://localhost:8080/",
          "height": 692
        },
        "id": "hzdi7o0x-e4-",
        "outputId": "c0a2ece6-0867-45da-abea-8bc6f76cada4"
      },
      "execution_count": 120,
      "outputs": [
        {
          "output_type": "display_data",
          "data": {
            "text/plain": [
              "<Figure size 600x800 with 12 Axes>"
            ],
            "image/png": "[encoded data removed]"
          },
          "metadata": {}
        },
        {
          "output_type": "stream",
          "name": "stdout",
          "text": [
            "['L', \"F'\", \"L'\", \"R'\", 'B', \"U'\", \"B'\", \"U'\", \"B'\", \"U'\"]\n"
          ]
        }
      ]
    }
  ]
}